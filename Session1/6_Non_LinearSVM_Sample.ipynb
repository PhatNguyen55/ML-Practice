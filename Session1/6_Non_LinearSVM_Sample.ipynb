{
 "cells": [
  {
   "cell_type": "markdown",
   "metadata": {},
   "source": [
    "## Import Libraries"
   ]
  },
  {
   "cell_type": "code",
   "execution_count": 17,
   "metadata": {
    "_cell_guid": "07cc26de-b83f-894f-72b9-97293d9b5d1d",
    "id": "LxspXKwWiIDM"
   },
   "outputs": [],
   "source": [
    "import matplotlib.pyplot as plt\n",
    "import numpy as np\n",
    "import tensorflow as tf\n",
    "from sklearn import datasets\n",
    "# sess = tf.Session()\n",
    "import tensorflow.compat.v1 as tf\n",
    "tf.disable_v2_behavior()\n",
    "\n",
    "# Launch the graph in a session.\n",
    "sess = tf.compat.v1.Session()"
   ]
  },
  {
   "cell_type": "code",
   "execution_count": 18,
   "metadata": {
    "_cell_guid": "09b02f46-b77b-2ef8-2073-196bcbc0ed07",
    "colab": {
     "base_uri": "https://localhost:8080/",
     "height": 17
    },
    "id": "UdPyztmniIDO",
    "outputId": "e14f6940-473f-4632-f14d-37b966f77096"
   },
   "outputs": [
    {
     "data": {
      "text/html": [
       "        <script type=\"text/javascript\">\n",
       "        window.PlotlyConfig = {MathJaxConfig: 'local'};\n",
       "        if (window.MathJax && window.MathJax.Hub && window.MathJax.Hub.Config) {window.MathJax.Hub.Config({SVG: {font: \"STIX-Web\"}});}\n",
       "        if (typeof require !== 'undefined') {\n",
       "        require.undef(\"plotly\");\n",
       "        requirejs.config({\n",
       "            paths: {\n",
       "                'plotly': ['https://cdn.plot.ly/plotly-2.35.2.min']\n",
       "            }\n",
       "        });\n",
       "        require(['plotly'], function(Plotly) {\n",
       "            window._Plotly = Plotly;\n",
       "        });\n",
       "        }\n",
       "        </script>\n",
       "        "
      ]
     },
     "metadata": {},
     "output_type": "display_data"
    }
   ],
   "source": [
    "import pandas as pd # data processing, CSV file I/O (e.g. pd.read_csv)\n",
    "import os\n",
    "import gc\n",
    "import seaborn as sns\n",
    "\n",
    "from scipy import ndimage\n",
    "from subprocess import check_output\n",
    "\n",
    "import cv2\n",
    "\n",
    "\n",
    "pal = sns.color_palette()\n",
    "\n",
    "import plotly.offline as py\n",
    "py.init_notebook_mode(connected=True)\n",
    "import plotly.graph_objs as go\n",
    "import plotly.tools as tls"
   ]
  },
  {
   "cell_type": "markdown",
   "metadata": {},
   "source": [
    "## Load dataset"
   ]
  },
  {
   "cell_type": "code",
   "execution_count": 19,
   "metadata": {
    "_cell_guid": "ed7d8f49-7f1d-9dfa-0c82-9285bd2cb0a8",
    "id": "4DASCW03iIDP"
   },
   "outputs": [],
   "source": [
    "iris = datasets.load_iris()\n",
    "x_vals = np.array([[x[0], x[3]] for x in iris.data])\n",
    "y_vals = np.array([1 if y==0 else -1 for y in iris.target])\n",
    "class1_x = [x[0] for i,x in enumerate(x_vals) if\n",
    "y_vals[i]==1]\n",
    "class1_y = [x[1] for i,x in enumerate(x_vals) if\n",
    "y_vals[i]==1]\n",
    "class2_x = [x[0] for i,x in enumerate(x_vals) if\n",
    "y_vals[i]==-1]\n",
    "class2_y = [x[1] for i,x in enumerate(x_vals) if\n",
    "y_vals[i]==-1]"
   ]
  },
  {
   "cell_type": "code",
   "execution_count": 20,
   "metadata": {
    "_cell_guid": "790020a6-0ab6-5bbb-11ec-f464b66a7024",
    "id": "FQja3Ot0iIDP"
   },
   "outputs": [],
   "source": [
    "batch_size = 100\n",
    "x_data = tf.placeholder(shape=[None, 2], dtype=tf.float32)\n",
    "y_target = tf.placeholder(shape=[None, 1], dtype=tf.float32)\n",
    "prediction_grid = tf.placeholder(shape=[None, 2],\n",
    "dtype=tf.float32)\n",
    "b = tf.Variable(tf.random_normal(shape=[1,batch_size]))"
   ]
  },
  {
   "cell_type": "code",
   "execution_count": 21,
   "metadata": {
    "_cell_guid": "22ea33cf-ea66-afd4-28cc-f1b60dcf4226",
    "id": "OMTxlHHDiIDP"
   },
   "outputs": [],
   "source": [
    "gamma = tf.constant(-10.0) # feel free to explore different values of gamma\n",
    "dist = tf.reduce_sum(tf.square(x_data), 1)\n",
    "dist = tf.reshape(dist, [-1,1])\n",
    "sq_dists = tf.add(tf.subtract(dist, tf.multiply(2., tf.matmul(x_data,\n",
    "tf.transpose(x_data)))), tf.transpose(dist))\n",
    "my_kernel = tf.exp(tf.multiply(gamma, tf.abs(sq_dists)))\n",
    "#We now compute the loss for the dual optimization problem, as follows:\n",
    "model_output = tf.matmul(b, my_kernel)\n",
    "first_term = tf.reduce_sum(b)\n",
    "b_vec_cross = tf.matmul(tf.transpose(b), b)\n",
    "y_target_cross = tf.matmul(y_target, tf.transpose(y_target))\n",
    "second_term = tf.reduce_sum(tf.multiply(my_kernel,\n",
    "tf.multiply(b_vec_cross, y_target_cross)))\n",
    "loss = tf.negative(tf.subtract(first_term, second_term))"
   ]
  },
  {
   "cell_type": "code",
   "execution_count": 22,
   "metadata": {
    "_cell_guid": "e5b52e41-8493-c21a-c5aa-4a14f0ec1b2e",
    "id": "8-HRyTOqiIDP"
   },
   "outputs": [],
   "source": [
    "rA = tf.reshape(tf.reduce_sum(tf.square(x_data), 1),[-1,1])\n",
    "rB = tf.reshape(tf.reduce_sum(tf.square(prediction_grid), 1),\n",
    "[-1,1])\n",
    "pred_sq_dist = tf.add(tf.subtract(rA, tf.multiply(2., tf.matmul(x_data,\n",
    "tf.transpose(prediction_grid)))), tf.transpose(rB))"
   ]
  },
  {
   "cell_type": "code",
   "execution_count": 23,
   "metadata": {
    "_cell_guid": "ae5e8991-a9cb-7af6-f8a3-dc3371ea0e30",
    "id": "SEQBo6-qiIDP"
   },
   "outputs": [],
   "source": [
    "pred_kernel = tf.exp(tf.multiply(gamma, tf.abs(pred_sq_dist)))\n",
    "prediction_output =tf.matmul(tf.multiply(tf.transpose(y_target),b), pred_kernel)\n"
   ]
  },
  {
   "cell_type": "code",
   "execution_count": 24,
   "metadata": {
    "_cell_guid": "2b260863-c30e-ee6f-4a90-26e3a7dc1b23",
    "id": "DvIWZZFxiIDP"
   },
   "outputs": [],
   "source": [
    "prediction = tf.sign(prediction_output-tf.reduce_mean(prediction_output))"
   ]
  },
  {
   "cell_type": "code",
   "execution_count": 25,
   "metadata": {
    "_cell_guid": "3243d582-febe-7ecf-70d4-124fe81585b8",
    "id": "S1M_3V4MiIDQ"
   },
   "outputs": [],
   "source": [
    "accuracy =tf.reduce_mean(tf.cast(tf.equal(tf.squeeze(prediction),tf.squeeze(y_target)), tf.float32))"
   ]
  },
  {
   "cell_type": "code",
   "execution_count": 26,
   "metadata": {
    "_cell_guid": "9d280155-e640-df4f-4ab2-d8815cd54a97",
    "id": "0qYzsaVoiIDQ"
   },
   "outputs": [],
   "source": [
    "my_opt = tf.train.GradientDescentOptimizer(0.01)\n",
    "train_step = my_opt.minimize(loss)\n",
    "init = tf.global_variables_initializer() # this line is different depending on your version of tf\n",
    "sess.run(init)"
   ]
  },
  {
   "cell_type": "code",
   "execution_count": 27,
   "metadata": {
    "_cell_guid": "d902b6b1-a533-8188-3550-04237f32e12c",
    "id": "qfyK9qbXiIDQ"
   },
   "outputs": [],
   "source": [
    "loss_vec = []\n",
    "batch_accuracy = []\n",
    "for i in range(300):\n",
    "    rand_index = np.random.choice(len(x_vals),size=batch_size)\n",
    "    rand_x = x_vals[rand_index]\n",
    "    rand_y = np.transpose([y_vals[rand_index]])\n",
    "    sess.run(train_step, feed_dict={x_data: rand_x, y_target:rand_y})\n",
    "    temp_loss = sess.run(loss, feed_dict={x_data: rand_x,y_target: rand_y})\n",
    "    loss_vec.append(temp_loss)\n",
    "    acc_temp = sess.run(accuracy, feed_dict={x_data: rand_x,y_target:rand_y,prediction_grid:rand_x})\n",
    "    batch_accuracy.append(acc_temp)"
   ]
  },
  {
   "cell_type": "code",
   "execution_count": 28,
   "metadata": {
    "_cell_guid": "3dd061da-9233-a59e-bee8-41e0333d02ec",
    "id": "v5SyPg8oiIDQ"
   },
   "outputs": [],
   "source": [
    "x_min, x_max = x_vals[:, 0].min() - 1, x_vals[:, 0].max() + 1\n",
    "y_min, y_max = x_vals[:, 1].min() - 1, x_vals[:, 1].max() + 1\n",
    "xx, yy = np.meshgrid(np.arange(x_min, x_max, 0.02),np.arange(y_min, y_max, 0.02))\n",
    "grid_points = np.c_[xx.ravel(), yy.ravel()]\n",
    "[grid_predictions] = sess.run(prediction, feed_dict={x_data:rand_x,y_target:rand_y,prediction_grid: grid_points})\n",
    "grid_predictions = grid_predictions.reshape(xx.shape)"
   ]
  },
  {
   "cell_type": "code",
   "execution_count": 29,
   "metadata": {
    "_cell_guid": "149f6eef-bed6-20e5-cf1c-c9de21f3c048",
    "colab": {
     "base_uri": "https://localhost:8080/",
     "height": 472
    },
    "id": "IBH48rCyiIDQ",
    "outputId": "4b46624c-a34c-4b27-ef1d-66d376c3d5b9"
   },
   "outputs": [
    {
     "data": {
      "image/png": "[encoded data removed]",
      "text/plain": [
       "<Figure size 640x480 with 1 Axes>"
      ]
     },
     "metadata": {},
     "output_type": "display_data"
    }
   ],
   "source": [
    "plt.contourf(xx, yy, grid_predictions, cmap=plt.cm.Paired,\n",
    "alpha=0.8)\n",
    "plt.plot(class1_x, class1_y, 'ro', label='I. setosa')\n",
    "plt.plot(class2_x, class2_y, 'kx', label='Non setosa')\n",
    "plt.title('Non Linear (Gaussian) Kernel SVM Results: Iris Data')\n",
    "plt.xlabel('Pedal Length')\n",
    "plt.ylabel('Sepal Width')\n",
    "plt.legend(loc='lower right')\n",
    "plt.ylim([-0.5, 3.0])\n",
    "plt.xlim([3.5, 8.5])\n",
    "plt.show()"
   ]
  },
  {
   "cell_type": "markdown",
   "metadata": {
    "_cell_guid": "3b5d0c0f-453d-3d91-53e4-73177379cf31",
    "id": "MVSOaxNHiIDQ"
   },
   "source": [
    "As you change the values of gamma, the plots will change reflecting the change of gamma"
   ]
  },
  {
   "cell_type": "markdown",
   "metadata": {
    "_cell_guid": "9db71e96-f20b-a861-bb34-e88a5b029616",
    "id": "qFwVcVcFiIDQ"
   },
   "source": [
    "Multi-class svm :"
   ]
  },
  {
   "cell_type": "code",
   "execution_count": 30,
   "metadata": {
    "_cell_guid": "8f490b9b-e220-a699-2dcb-43457df86a62",
    "id": "vveVZRiRiIDR"
   },
   "outputs": [],
   "source": [
    "iris = datasets.load_iris()\n",
    "x_vals = np.array([[x[0], x[3]] for x in iris.data])\n",
    "y_vals1 = np.array([1 if y==0 else -1 for y in iris.target])\n",
    "y_vals2 = np.array([1 if y==1 else -1 for y in iris.target])\n",
    "y_vals3 = np.array([1 if y==2 else -1 for y in iris.target])\n",
    "y_vals = np.array([y_vals1, y_vals2, y_vals3])\n",
    "class1_x = [x[0] for i,x in enumerate(x_vals) if\n",
    "iris.target[i]==0]\n",
    "class1_y = [x[1] for i,x in enumerate(x_vals) if\n",
    "iris.target[i]==0]\n",
    "class2_x = [x[0] for i,x in enumerate(x_vals) if\n",
    "iris.target[i]==1]\n",
    "class2_y = [x[1] for i,x in enumerate(x_vals) if\n",
    "iris.target[i]==1]\n",
    "class3_x = [x[0] for i,x in enumerate(x_vals) if\n",
    "iris.target[i]==2]\n",
    "class3_y = [x[1] for i,x in enumerate(x_vals) if\n",
    "iris.target[i]==2]"
   ]
  },
  {
   "cell_type": "code",
   "execution_count": 31,
   "metadata": {
    "_cell_guid": "18751b51-b58f-e11e-a322-d241dac794d7",
    "id": "RdPUdTZUiIDR"
   },
   "outputs": [],
   "source": [
    "batch_size = 50\n",
    "x_data = tf.placeholder(shape=[None, 2], dtype=tf.float32)\n",
    "y_target = tf.placeholder(shape=[3, None], dtype=tf.float32)\n",
    "prediction_grid = tf.placeholder(shape=[None, 2],dtype=tf.float32)\n",
    "b = tf.Variable(tf.random_normal(shape=[3,batch_size]))"
   ]
  },
  {
   "cell_type": "code",
   "execution_count": 32,
   "metadata": {
    "_cell_guid": "1931e8b6-e80d-7fc2-00dc-074c809488ba",
    "id": "ihTzdAQWiIDR"
   },
   "outputs": [],
   "source": [
    "gamma = tf.constant(-1.0)\n",
    "dist = tf.reduce_sum(tf.square(x_data), 1)\n",
    "dist = tf.reshape(dist, [-1,1])\n",
    "sq_dists = tf.add(tf.subtract(dist, tf.multiply(2., tf.matmul(x_data,tf.transpose(x_data)))), tf.transpose(dist))\n",
    "my_kernel = tf.exp(tf.multiply(gamma, tf.abs(sq_dists)))"
   ]
  },
  {
   "cell_type": "code",
   "execution_count": 33,
   "metadata": {
    "_cell_guid": "ae5f4972-67a1-a5af-2f38-c59aeb2a4559",
    "id": "txS7jC5-iIDR"
   },
   "outputs": [],
   "source": [
    "#batch multiplication\n",
    "def reshape_matmul(mat):\n",
    "    v1 = tf.expand_dims(mat, 1)\n",
    "    v2 = tf.reshape(v1, [3, batch_size, 1])\n",
    "    return(tf.matmul(v2, v1))"
   ]
  },
  {
   "cell_type": "code",
   "execution_count": 34,
   "metadata": {
    "_cell_guid": "c5e52e82-dd15-ec67-2009-130dbb51ed45",
    "id": "ZPm7HBs-iIDR"
   },
   "outputs": [],
   "source": [
    "#loss\n",
    "model_output = tf.matmul(b, my_kernel)\n",
    "first_term = tf.reduce_sum(b)\n",
    "b_vec_cross = tf.matmul(tf.transpose(b), b)\n",
    "y_target_cross = reshape_matmul(y_target)\n",
    "second_term = tf.reduce_sum(tf.multiply(my_kernel,tf.multiply(b_vec_cross, y_target_cross)),[1,2])\n",
    "loss = tf.reduce_sum(tf.negative(tf.subtract(first_term, second_term)))"
   ]
  },
  {
   "cell_type": "code",
   "execution_count": 35,
   "metadata": {
    "_cell_guid": "7de1748b-24f2-42cb-a3d6-1ec4a2d8d166",
    "id": "0RoimmqoiIDR"
   },
   "outputs": [],
   "source": [
    "rA = tf.reshape(tf.reduce_sum(tf.square(x_data), 1),[-1,1])\n",
    "rB = tf.reshape(tf.reduce_sum(tf.square(prediction_grid), 1),[-1,1])\n",
    "\n",
    "pred_sq_dist = tf.add(tf.subtract(rA, tf.multiply(2., tf.matmul(x_data,tf.transpose(prediction_grid)))), tf.transpose(rB))\n",
    "pred_kernel = tf.exp(tf.multiply(gamma, tf.abs(pred_sq_dist)))"
   ]
  },
  {
   "cell_type": "code",
   "execution_count": 36,
   "metadata": {
    "_cell_guid": "4fdabab7-363e-eb4d-19df-0fd433a19979",
    "colab": {
     "base_uri": "https://localhost:8080/"
    },
    "id": "6zNJrrZhiIDR",
    "outputId": "8b22c0ca-30a6-47e0-cb41-89127ed44f1c"
   },
   "outputs": [
    {
     "name": "stderr",
     "output_type": "stream",
     "text": [
      "WARNING:tensorflow:From <ipython-input-36-2da30e503656>:2: arg_max (from tensorflow.python.ops.gen_math_ops) is deprecated and will be removed in a future version.\n",
      "Instructions for updating:\n",
      "Use `tf.math.argmax` instead\n"
     ]
    }
   ],
   "source": [
    "prediction_output = tf.matmul(tf.multiply(y_target,b),pred_kernel)\n",
    "prediction = tf.arg_max(prediction_output-tf.expand_dims(tf.reduce_mean(prediction_output,1), 1), 0)\n",
    "accuracy = tf.reduce_mean(tf.cast(tf.equal(prediction,tf.argmax(y_target,0)), tf.float32))"
   ]
  },
  {
   "cell_type": "code",
   "execution_count": 37,
   "metadata": {
    "_cell_guid": "23316721-8e2f-5660-f127-3bc924fe4d46",
    "id": "9uRkI7LNiIDR"
   },
   "outputs": [],
   "source": [
    "my_opt = tf.train.GradientDescentOptimizer(0.01)\n",
    "train_step = my_opt.minimize(loss)\n",
    "init = tf.global_variables_initializer()\n",
    "sess.run(init)"
   ]
  },
  {
   "cell_type": "code",
   "execution_count": 38,
   "metadata": {
    "_cell_guid": "929c6572-4e11-dada-633c-7fa0a98d7ab2",
    "id": "Jf7NAv3NiIDR"
   },
   "outputs": [],
   "source": [
    "loss_vec = []\n",
    "batch_accuracy = []"
   ]
  },
  {
   "cell_type": "code",
   "execution_count": 39,
   "metadata": {
    "_cell_guid": "750e7c7c-e257-1b45-bbbd-f3ad5de26f25",
    "colab": {
     "base_uri": "https://localhost:8080/"
    },
    "id": "N5KT3vwoiIDS",
    "outputId": "89dc71cd-9772-4f1c-c9ee-796890345433"
   },
   "outputs": [
    {
     "name": "stdout",
     "output_type": "stream",
     "text": [
      "Step #5\n",
      "Loss = 77.14722\n",
      "Step #10\n",
      "Loss = 25.497038\n",
      "Step #15\n",
      "Loss = 19.726444\n",
      "Step #20\n",
      "Loss = 6.2077165\n",
      "Step #25\n",
      "Loss = -2.996069\n",
      "Step #30\n",
      "Loss = 14.061443\n",
      "Step #35\n",
      "Loss = -1.8658061\n",
      "Step #40\n",
      "Loss = -6.9762673\n",
      "Step #45\n",
      "Loss = -10.3892975\n",
      "Step #50\n",
      "Loss = -8.997691\n",
      "Step #55\n",
      "Loss = -9.489167\n",
      "Step #60\n",
      "Loss = -10.403807\n",
      "Step #65\n",
      "Loss = -11.951204\n",
      "Step #70\n",
      "Loss = -11.83304\n",
      "Step #75\n",
      "Loss = -11.056079\n",
      "Step #80\n",
      "Loss = -12.676118\n",
      "Step #85\n",
      "Loss = -12.652872\n",
      "Step #90\n",
      "Loss = -11.421587\n",
      "Step #95\n",
      "Loss = -11.964697\n",
      "Step #100\n",
      "Loss = -11.818178\n",
      "Step #105\n",
      "Loss = -10.8725815\n",
      "Step #110\n",
      "Loss = -12.638023\n",
      "Step #115\n",
      "Loss = -12.135365\n",
      "Step #120\n",
      "Loss = -13.526962\n",
      "Step #125\n",
      "Loss = -11.853418\n",
      "Step #130\n",
      "Loss = -11.970121\n",
      "Step #135\n",
      "Loss = -11.8375435\n",
      "Step #140\n",
      "Loss = -10.561105\n",
      "Step #145\n",
      "Loss = -11.38918\n",
      "Step #150\n",
      "Loss = -14.645493\n",
      "Step #155\n",
      "Loss = -11.605273\n",
      "Step #160\n",
      "Loss = -11.697222\n",
      "Step #165\n",
      "Loss = -14.701392\n",
      "Step #170\n",
      "Loss = -11.446325\n",
      "Step #175\n",
      "Loss = -12.422901\n",
      "Step #180\n",
      "Loss = -12.319271\n",
      "Step #185\n",
      "Loss = -11.577038\n",
      "Step #190\n",
      "Loss = -14.168656\n",
      "Step #195\n",
      "Loss = -11.520803\n",
      "Step #200\n",
      "Loss = -13.595354\n",
      "Step #205\n",
      "Loss = -11.698805\n",
      "Step #210\n",
      "Loss = -13.022699\n",
      "Step #215\n",
      "Loss = -12.610826\n",
      "Step #220\n",
      "Loss = -11.775209\n",
      "Step #225\n",
      "Loss = -15.5976515\n",
      "Step #230\n",
      "Loss = -11.241851\n",
      "Step #235\n",
      "Loss = -11.979652\n",
      "Step #240\n",
      "Loss = -12.503239\n",
      "Step #245\n",
      "Loss = -12.658913\n",
      "Step #250\n",
      "Loss = -11.627274\n",
      "Step #255\n",
      "Loss = -12.980266\n",
      "Step #260\n",
      "Loss = -13.834072\n",
      "Step #265\n",
      "Loss = -12.021399\n",
      "Step #270\n",
      "Loss = -13.84502\n",
      "Step #275\n",
      "Loss = -13.62863\n",
      "Step #280\n",
      "Loss = -12.91275\n",
      "Step #285\n",
      "Loss = -13.493429\n",
      "Step #290\n",
      "Loss = -13.47379\n",
      "Step #295\n",
      "Loss = -13.322788\n",
      "Step #300\n",
      "Loss = -12.917223\n",
      "Step #305\n",
      "Loss = -12.830421\n",
      "Step #310\n",
      "Loss = -12.487731\n",
      "Step #315\n",
      "Loss = -12.79221\n",
      "Step #320\n",
      "Loss = -12.823822\n",
      "Step #325\n",
      "Loss = -14.0339155\n",
      "Step #330\n",
      "Loss = -10.36243\n",
      "Step #335\n",
      "Loss = -12.667463\n",
      "Step #340\n",
      "Loss = -11.377855\n",
      "Step #345\n",
      "Loss = -12.525336\n",
      "Step #350\n",
      "Loss = -12.048565\n",
      "Step #355\n",
      "Loss = -12.149122\n",
      "Step #360\n",
      "Loss = -13.535307\n",
      "Step #365\n",
      "Loss = -11.403567\n",
      "Step #370\n",
      "Loss = -12.365182\n",
      "Step #375\n",
      "Loss = -11.526022\n",
      "Step #380\n",
      "Loss = -13.496664\n",
      "Step #385\n",
      "Loss = -13.156479\n",
      "Step #390\n",
      "Loss = -13.502811\n",
      "Step #395\n",
      "Loss = -12.552732\n",
      "Step #400\n",
      "Loss = -11.804905\n",
      "Step #405\n",
      "Loss = -12.507938\n",
      "Step #410\n",
      "Loss = -13.63665\n",
      "Step #415\n",
      "Loss = -10.624859\n",
      "Step #420\n",
      "Loss = -13.52119\n",
      "Step #425\n",
      "Loss = -11.246575\n",
      "Step #430\n",
      "Loss = -13.222507\n",
      "Step #435\n",
      "Loss = -12.864012\n",
      "Step #440\n",
      "Loss = -11.936783\n",
      "Step #445\n",
      "Loss = -12.920077\n",
      "Step #450\n",
      "Loss = -13.079464\n",
      "Step #455\n",
      "Loss = -14.5552025\n",
      "Step #460\n",
      "Loss = -11.973705\n",
      "Step #465\n",
      "Loss = -12.417725\n",
      "Step #470\n",
      "Loss = -12.582518\n",
      "Step #475\n",
      "Loss = -12.015827\n",
      "Step #480\n",
      "Loss = -13.512566\n",
      "Step #485\n",
      "Loss = -12.32876\n",
      "Step #490\n",
      "Loss = -13.661287\n",
      "Step #495\n",
      "Loss = -13.0902405\n",
      "Step #500\n",
      "Loss = -11.873091\n",
      "Step #505\n",
      "Loss = -10.8284645\n",
      "Step #510\n",
      "Loss = -11.82917\n",
      "Step #515\n",
      "Loss = -12.792657\n",
      "Step #520\n",
      "Loss = -11.93557\n",
      "Step #525\n",
      "Loss = -11.639391\n",
      "Step #530\n",
      "Loss = -12.229836\n",
      "Step #535\n",
      "Loss = -12.534441\n",
      "Step #540\n",
      "Loss = -13.776894\n",
      "Step #545\n",
      "Loss = -13.041094\n",
      "Step #550\n",
      "Loss = -13.15542\n",
      "Step #555\n",
      "Loss = -13.768547\n",
      "Step #560\n",
      "Loss = -13.845047\n",
      "Step #565\n",
      "Loss = -14.162796\n",
      "Step #570\n",
      "Loss = -11.678316\n",
      "Step #575\n",
      "Loss = -11.630381\n",
      "Step #580\n",
      "Loss = -11.868668\n",
      "Step #585\n",
      "Loss = -11.363548\n",
      "Step #590\n",
      "Loss = -12.260944\n",
      "Step #595\n",
      "Loss = -10.897607\n",
      "Step #600\n",
      "Loss = -14.250097\n",
      "Step #605\n",
      "Loss = -13.352989\n",
      "Step #610\n",
      "Loss = -13.023683\n",
      "Step #615\n",
      "Loss = -13.531528\n",
      "Step #620\n",
      "Loss = -12.436431\n",
      "Step #625\n",
      "Loss = -12.985964\n",
      "Step #630\n",
      "Loss = -13.060665\n",
      "Step #635\n",
      "Loss = -12.617943\n",
      "Step #640\n",
      "Loss = -11.998985\n",
      "Step #645\n",
      "Loss = -11.089594\n",
      "Step #650\n",
      "Loss = -12.189511\n",
      "Step #655\n",
      "Loss = -11.894094\n",
      "Step #660\n",
      "Loss = -11.653893\n",
      "Step #665\n",
      "Loss = -10.652948\n",
      "Step #670\n",
      "Loss = -12.680262\n",
      "Step #675\n",
      "Loss = -13.34079\n",
      "Step #680\n",
      "Loss = -13.812805\n",
      "Step #685\n",
      "Loss = -11.846237\n",
      "Step #690\n",
      "Loss = -10.441619\n",
      "Step #695\n",
      "Loss = -13.309714\n",
      "Step #700\n",
      "Loss = -12.232655\n",
      "Step #705\n",
      "Loss = -11.982872\n",
      "Step #710\n",
      "Loss = -13.651316\n",
      "Step #715\n",
      "Loss = -12.302467\n",
      "Step #720\n",
      "Loss = -11.680946\n",
      "Step #725\n",
      "Loss = -12.532724\n",
      "Step #730\n",
      "Loss = -13.49205\n",
      "Step #735\n",
      "Loss = -14.561409\n",
      "Step #740\n",
      "Loss = -12.7239\n",
      "Step #745\n",
      "Loss = -12.866577\n",
      "Step #750\n",
      "Loss = -12.766044\n",
      "Step #755\n",
      "Loss = -12.299782\n",
      "Step #760\n",
      "Loss = -11.355643\n",
      "Step #765\n",
      "Loss = -13.203506\n",
      "Step #770\n",
      "Loss = -13.497458\n",
      "Step #775\n",
      "Loss = -12.886678\n",
      "Step #780\n",
      "Loss = -11.557327\n",
      "Step #785\n",
      "Loss = -12.032967\n",
      "Step #790\n",
      "Loss = -13.398235\n",
      "Step #795\n",
      "Loss = -10.62738\n",
      "Step #800\n",
      "Loss = -11.968908\n",
      "Step #805\n",
      "Loss = -12.2049055\n",
      "Step #810\n",
      "Loss = -13.6709175\n",
      "Step #815\n",
      "Loss = -14.50705\n",
      "Step #820\n",
      "Loss = -13.2744\n",
      "Step #825\n",
      "Loss = -10.861355\n",
      "Step #830\n",
      "Loss = -12.802278\n",
      "Step #835\n",
      "Loss = -14.242758\n",
      "Step #840\n",
      "Loss = -12.170013\n",
      "Step #845\n",
      "Loss = -12.201632\n",
      "Step #850\n",
      "Loss = -12.498936\n",
      "Step #855\n",
      "Loss = -12.819696\n",
      "Step #860\n",
      "Loss = -11.849307\n",
      "Step #865\n",
      "Loss = -12.664189\n",
      "Step #870\n",
      "Loss = -10.760351\n",
      "Step #875\n",
      "Loss = -13.390692\n",
      "Step #880\n",
      "Loss = -13.1491585\n",
      "Step #885\n",
      "Loss = -11.222294\n",
      "Step #890\n",
      "Loss = -13.306557\n",
      "Step #895\n",
      "Loss = -14.514673\n",
      "Step #900\n",
      "Loss = -12.487316\n",
      "Step #905\n",
      "Loss = -12.069574\n",
      "Step #910\n",
      "Loss = -13.263617\n",
      "Step #915\n",
      "Loss = -12.029726\n",
      "Step #920\n",
      "Loss = -13.0757675\n",
      "Step #925\n",
      "Loss = -12.978003\n",
      "Step #930\n",
      "Loss = -12.867445\n",
      "Step #935\n",
      "Loss = -12.657973\n",
      "Step #940\n",
      "Loss = -9.947156\n",
      "Step #945\n",
      "Loss = -11.8298855\n",
      "Step #950\n",
      "Loss = -11.559404\n",
      "Step #955\n",
      "Loss = -10.886653\n",
      "Step #960\n",
      "Loss = -12.923629\n",
      "Step #965\n",
      "Loss = -13.671162\n",
      "Step #970\n",
      "Loss = -12.611647\n",
      "Step #975\n",
      "Loss = -12.067131\n",
      "Step #980\n",
      "Loss = -14.849717\n",
      "Step #985\n",
      "Loss = -12.558159\n",
      "Step #990\n",
      "Loss = -13.407992\n",
      "Step #995\n",
      "Loss = -12.803433\n",
      "Step #1000\n",
      "Loss = -14.042168\n"
     ]
    }
   ],
   "source": [
    "for i in range(1000):\n",
    "    rand_index = np.random.choice(len(x_vals),\n",
    "    size=batch_size)\n",
    "    rand_x = x_vals[rand_index]\n",
    "    rand_y = y_vals[:,rand_index]\n",
    "    sess.run(train_step, feed_dict={x_data: rand_x, y_target:rand_y})\n",
    "    temp_loss = sess.run(loss, feed_dict={x_data: rand_x,y_target: rand_y})\n",
    "    loss_vec.append(temp_loss)\n",
    "    acc_temp = sess.run(accuracy, feed_dict={x_data: rand_x,y_target: rand_y, prediction_grid:rand_x})\n",
    "    batch_accuracy.append(acc_temp)\n",
    "    if (i+1)%5==0:\n",
    "        print('Step #' + str(i+1))\n",
    "        print('Loss = ' + str(temp_loss))"
   ]
  },
  {
   "cell_type": "code",
   "execution_count": 40,
   "metadata": {
    "_cell_guid": "4ed6433b-9cf9-a33a-04c5-aa70f3e4131b",
    "id": "gxcfjLTqiIDS"
   },
   "outputs": [],
   "source": [
    "x_min, x_max = x_vals[:, 0].min() - 1, x_vals[:, 0].max() + 1\n",
    "y_min, y_max = x_vals[:, 1].min() - 1, x_vals[:, 1].max() + 1\n",
    "\n",
    "xx, yy = np.meshgrid(np.arange(x_min, x_max, 0.02),\n",
    "np.arange(y_min, y_max, 0.02))\n",
    "\n",
    "grid_points = np.c_[xx.ravel(), yy.ravel()]\n",
    "grid_predictions = sess.run(prediction, feed_dict={x_data:rand_x,y_target:rand_y,prediction_grid: grid_points})\n",
    "grid_predictions = grid_predictions.reshape(xx.shape)"
   ]
  },
  {
   "cell_type": "code",
   "execution_count": 41,
   "metadata": {
    "_cell_guid": "1a17ecd3-dbae-e9db-cdaa-c500cfb0accd",
    "colab": {
     "base_uri": "https://localhost:8080/",
     "height": 1000
    },
    "id": "fUZA4idriIDS",
    "outputId": "a1ce98b5-efaf-4e77-f7a6-45cb0118ee5e"
   },
   "outputs": [
    {
     "data": {
      "image/png": "[encoded data removed]",
      "text/plain": [
       "<Figure size 640x480 with 1 Axes>"
      ]
     },
     "metadata": {},
     "output_type": "display_data"
    },
    {
     "data": {
      "image/png": "[encoded data removed]",
      "text/plain": [
       "<Figure size 640x480 with 1 Axes>"
      ]
     },
     "metadata": {},
     "output_type": "display_data"
    },
    {
     "data": {
      "image/png": "[encoded data removed]",
      "text/plain": [
       "<Figure size 640x480 with 1 Axes>"
      ]
     },
     "metadata": {},
     "output_type": "display_data"
    }
   ],
   "source": [
    "plt.contourf(xx, yy, grid_predictions, cmap=plt.cm.Paired,\n",
    "alpha=0.8)\n",
    "plt.plot(class1_x, class1_y, 'kx', label='Setosa')\n",
    "plt.plot(class2_x, class2_y, 'gv', label='Versicolor')\n",
    "plt.plot(class3_x, class3_y, 'ro', label='Virginica')\n",
    "plt.title('Gaussian SVM Results: Iris Data')\n",
    "plt.xlabel('Pedal Length')\n",
    "plt.ylabel('Sepal Width')\n",
    "plt.legend(loc='lower right')\n",
    "plt.ylim([-0.5, 3.0])\n",
    "plt.xlim([3.5, 8.5])\n",
    "plt.show()\n",
    "\n",
    "plt.plot(batch_accuracy, 'k-', label='Accuracy')\n",
    "plt.title('Batch Accuracy')\n",
    "plt.xlabel('Generation')\n",
    "plt.ylabel('Accuracy')\n",
    "plt.legend(loc='lower right')\n",
    "plt.show()\n",
    "\n",
    "plt.plot(loss_vec, 'k-')\n",
    "plt.title('Loss per Generation')\n",
    "plt.xlabel('Generation')\n",
    "plt.ylabel('Loss')\n",
    "plt.show()"
   ]
  }
 ],
 "metadata": {
  "_change_revision": 1,
  "_is_fork": false,
  "colab": {
   "provenance": []
  },
  "kernelspec": {
   "display_name": "Python 3",
   "language": "python",
   "name": "python3"
  },
  "language_info": {
   "codemirror_mode": {
    "name": "ipython",
    "version": 3
   },
   "file_extension": ".py",
   "mimetype": "text/x-python",
   "name": "python",
   "nbconvert_exporter": "python",
   "pygments_lexer": "ipython3",
   "version": "3.6.0"
  }
 },
 "nbformat": 4,
 "nbformat_minor": 0
}
