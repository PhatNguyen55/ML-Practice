{
  "cells": [
    {
      "cell_type": "code",
      "execution_count": 171,
      "metadata": {
        "_cell_guid": "b1076dfc-b9ad-4769-8c92-a6c4dae69d19",
        "_uuid": "8f2839f25d086af736a60e9eeb907d3b93b6e0e5",
        "colab": {
          "base_uri": "https://localhost:8080/"
        },
        "id": "LvGpqPNHu7Yu",
        "outputId": "5eb07448-18c8-4eb9-fd3c-a6f2f9007cd6"
      },
      "outputs": [
        {
          "output_type": "stream",
          "name": "stdout",
          "text": [
            "/content/.config/.last_survey_prompt.yaml\n",
            "/content/.config/hidden_gcloud_config_universe_descriptor_data_cache_configs.db\n",
            "/content/.config/active_config\n",
            "/content/.config/default_configs.db\n",
            "/content/.config/.last_opt_in_prompt.yaml\n",
            "/content/.config/gce\n",
            "/content/.config/config_sentinel\n",
            "/content/.config/.last_update_check.json\n",
            "/content/.config/logs/2024.11.21/14.25.30.368557.log\n",
            "/content/.config/logs/2024.11.21/14.24.55.851126.log\n",
            "/content/.config/logs/2024.11.21/14.25.31.482956.log\n",
            "/content/.config/logs/2024.11.21/14.25.17.504089.log\n",
            "/content/.config/logs/2024.11.21/14.25.44.623490.log\n",
            "/content/.config/logs/2024.11.21/14.25.43.887178.log\n",
            "/content/.config/configurations/config_default\n",
            "/content/sample_data/anscombe.json\n",
            "/content/sample_data/README.md\n",
            "/content/sample_data/mnist_train_small.csv\n",
            "/content/sample_data/mnist_test.csv\n",
            "/content/sample_data/california_housing_test.csv\n",
            "/content/sample_data/california_housing_train.csv\n"
          ]
        }
      ],
      "source": [
        "# This Python 3 environment comes with many helpful analytics libraries installed\n",
        "# It is defined by the kaggle/python docker image: https://github.com/kaggle/docker-python\n",
        "# For example, here's several helpful packages to load in\n",
        "\n",
        "import numpy as np # linear algebra\n",
        "import pandas as pd # data processing, CSV file I/O (e.g. pd.read_csv)\n",
        "from sklearn import feature_extraction, linear_model, model_selection, preprocessing\n",
        "\n",
        "# Input data files are available in the \"../input/\" directory.\n",
        "# For example, running this (by clicking run or pressing Shift+Enter) will list all files under the input directory\n",
        "\n",
        "\n",
        "import os\n",
        "for dirname, _, filenames in os.walk('/content'):\n",
        "    for filename in filenames:\n",
        "        print(os.path.join(dirname, filename))\n",
        "\n",
        "# Any results you write to the current directory are saved as output."
      ]
    },
    {
      "cell_type": "code",
      "execution_count": 172,
      "metadata": {
        "id": "BLhaxLVfu7Yy"
      },
      "outputs": [],
      "source": [
        "# tensorflow hub\n",
        "import tensorflow_hub as hub\n",
        "# tensor flow module\n",
        "import tensorflow as tf\n",
        "import tensorflow_probability as tfp\n",
        "\n",
        "# matplotlib\n",
        "from matplotlib import colors\n",
        "from matplotlib import pyplot as plt\n",
        "\n",
        "# word vectorizor\n",
        "# first converts the text into a matrix of word counts\n",
        "# then transforms these counts by normalizing them based on the term frequency\n",
        "from sklearn.feature_extraction.text import TfidfVectorizer\n",
        "\n",
        "# used to create word encoders\n",
        "from sklearn import preprocessing"
      ]
    },
    {
      "cell_type": "markdown",
      "metadata": {
        "id": "R_AUkTm8u7Yz"
      },
      "source": [
        "# Background\n",
        "In this competition we have a keyword(sometimes), location(sometimes), and text to represent a Tweet. Our goal is to predict whether the tweet is describing a real disaster (1) or not (0).\n",
        "\n",
        "In this kernel I am going to focus on the text and keyword features to predict a target. First, I must convert the text into vectors to use in my model. I will use a multinominal Naive Bayes classifier to build my model given the text features. Then I will use Naive Bayes to get predictions based on keywords."
      ]
    },
    {
      "cell_type": "markdown",
      "metadata": {
        "id": "nzv1Csbiu7Y2"
      },
      "source": [
        "Tensorflow code is inspired by github repo:\n",
        "https://github.com/nicolov/naive_bayes_tensorflow/blob/master/tf_iris.py\n"
      ]
    },
    {
      "cell_type": "markdown",
      "metadata": {
        "id": "allDCiU6u7Y2"
      },
      "source": [
        "# Import Data"
      ]
    },
    {
      "cell_type": "markdown",
      "metadata": {
        "id": "K1wzyzQdu7Y3"
      },
      "source": [
        "read in data to pandas dataframes"
      ]
    },
    {
      "cell_type": "code",
      "execution_count": 173,
      "metadata": {
        "_cell_guid": "79c7e3d0-c299-4dcb-8224-4455121ee9b0",
        "_uuid": "d629ff2d2480ee46fbb7e2d37f6b5fab8052498a",
        "id": "0YNp73AQu7Y4"
      },
      "outputs": [],
      "source": [
        "train_df = pd.read_csv(\"/train.csv\")\n",
        "test_df = pd.read_csv(\"/test.csv\")"
      ]
    },
    {
      "cell_type": "markdown",
      "metadata": {
        "id": "krp0dViou7Y4"
      },
      "source": [
        "# Exploratory\n",
        "I just want to get a general idea of the data before we predict the targets"
      ]
    },
    {
      "cell_type": "markdown",
      "metadata": {
        "id": "2yKuc006u7Y5"
      },
      "source": [
        "count how many of each target is found in the training set"
      ]
    },
    {
      "cell_type": "code",
      "execution_count": 174,
      "metadata": {
        "colab": {
          "base_uri": "https://localhost:8080/",
          "height": 178
        },
        "id": "fNCHwzoqu7Y5",
        "outputId": "d253cda7-bd32-4dc0-92e0-84120b6c8594"
      },
      "outputs": [
        {
          "output_type": "execute_result",
          "data": {
            "text/plain": [
              "target\n",
              "0    4342\n",
              "1    3271\n",
              "Name: id, dtype: int64"
            ],
            "text/html": [
              "<div>\n",
              "<style scoped>\n",
              "    .dataframe tbody tr th:only-of-type {\n",
              "        vertical-align: middle;\n",
              "    }\n",
              "\n",
              "    .dataframe tbody tr th {\n",
              "        vertical-align: top;\n",
              "    }\n",
              "\n",
              "    .dataframe thead th {\n",
              "        text-align: right;\n",
              "    }\n",
              "</style>\n",
              "<table border=\"1\" class=\"dataframe\">\n",
              "  <thead>\n",
              "    <tr style=\"text-align: right;\">\n",
              "      <th></th>\n",
              "      <th>id</th>\n",
              "    </tr>\n",
              "    <tr>\n",
              "      <th>target</th>\n",
              "      <th></th>\n",
              "    </tr>\n",
              "  </thead>\n",
              "  <tbody>\n",
              "    <tr>\n",
              "      <th>0</th>\n",
              "      <td>4342</td>\n",
              "    </tr>\n",
              "    <tr>\n",
              "      <th>1</th>\n",
              "      <td>3271</td>\n",
              "    </tr>\n",
              "  </tbody>\n",
              "</table>\n",
              "</div><br><label><b>dtype:</b> int64</label>"
            ]
          },
          "metadata": {},
          "execution_count": 174
        }
      ],
      "source": [
        "train_df.groupby(\"target\")[\"id\"].nunique()"
      ]
    },
    {
      "cell_type": "markdown",
      "metadata": {
        "id": "UqREf-Iru7Y6"
      },
      "source": [
        "This is amazing! **Our training set has no null targets and our targets are fairly balanced as well!**"
      ]
    },
    {
      "cell_type": "markdown",
      "metadata": {
        "id": "sTTnb9R5u7Y6"
      },
      "source": [
        "How many unique locations are duplicated in the tweets of the tweets that contain locations?"
      ]
    },
    {
      "cell_type": "code",
      "execution_count": 175,
      "metadata": {
        "colab": {
          "base_uri": "https://localhost:8080/"
        },
        "id": "wN3R8Cq2u7Y7",
        "outputId": "388509ec-dc08-470b-d7ed-469cabfe51f4"
      },
      "outputs": [
        {
          "output_type": "stream",
          "name": "stdout",
          "text": [
            "2158\n",
            "1602\n"
          ]
        }
      ],
      "source": [
        "print(len(test_df.loc[test_df[\"location\"].notnull(),\"location\"]))\n",
        "print(len(test_df.loc[test_df[\"location\"].notnull(),\"location\"].unique()))"
      ]
    },
    {
      "cell_type": "markdown",
      "metadata": {
        "id": "ZCey2nH9u7Y7"
      },
      "source": [
        "it looks like not even half match a previous tweet. We may eventually have to categorize locations using a different technique than string matching. For example, it may be useful to categorize cities verse suburban areas rather than just the city names."
      ]
    },
    {
      "cell_type": "markdown",
      "metadata": {
        "id": "kFEvKGMeu7Y7"
      },
      "source": [
        "What about the key words?"
      ]
    },
    {
      "cell_type": "code",
      "execution_count": 176,
      "metadata": {
        "colab": {
          "base_uri": "https://localhost:8080/"
        },
        "id": "iLGYz3YJu7Y7",
        "outputId": "a420aefd-72c3-4616-8247-037b4b9a9840"
      },
      "outputs": [
        {
          "output_type": "stream",
          "name": "stdout",
          "text": [
            "3237\n",
            "221\n"
          ]
        }
      ],
      "source": [
        "print(len(test_df.loc[test_df[\"keyword\"].notnull(),\"keyword\"]))\n",
        "print(len(test_df.loc[test_df[\"keyword\"].notnull(),\"keyword\"].unique()))"
      ]
    },
    {
      "cell_type": "markdown",
      "metadata": {
        "id": "FavJ5Vrzu7Y8"
      },
      "source": [
        "These may actually be useful in a naive bayes model since each key word will have a conditional probability."
      ]
    },
    {
      "cell_type": "markdown",
      "metadata": {
        "id": "oSz3XwEbu7Y8"
      },
      "source": [
        "# Tweet Text: Sentence Embedding"
      ]
    },
    {
      "cell_type": "markdown",
      "metadata": {
        "id": "rmnA-49wu7Y8"
      },
      "source": [
        "Next we can convert each of the texts into vectors using a TensorFlow universal-sentence-encoder."
      ]
    },
    {
      "cell_type": "code",
      "execution_count": 177,
      "metadata": {
        "id": "PbQBSkCNu7Y8"
      },
      "outputs": [],
      "source": [
        "embed = hub.load(\"https://tfhub.dev/google/universal-sentence-encoder/3\")\n",
        "X_train_embeddings = embed(train_df[\"text\"].values)\n",
        "X_test_embeddings = embed(test_df[\"text\"].values)"
      ]
    },
    {
      "cell_type": "markdown",
      "metadata": {
        "id": "95TulZvcu7Y9"
      },
      "source": [
        "# Tensor Flow Naiver Bayes"
      ]
    },
    {
      "cell_type": "markdown",
      "metadata": {
        "id": "mtByFi86u7Y9"
      },
      "source": [
        "Lets create numpy matricies for the features in the training and test set."
      ]
    },
    {
      "cell_type": "code",
      "execution_count": 178,
      "metadata": {
        "id": "MikW0rlYu7Y9"
      },
      "outputs": [],
      "source": [
        "X_train_matrix = X_train_embeddings['outputs'].numpy()"
      ]
    },
    {
      "cell_type": "code",
      "execution_count": 179,
      "metadata": {
        "id": "xi_dywXEu7Y9"
      },
      "outputs": [],
      "source": [
        "X_test_matrix = X_test_embeddings['outputs'].numpy()"
      ]
    },
    {
      "cell_type": "markdown",
      "metadata": {
        "id": "cVc-WfZ6u7Y9"
      },
      "source": [
        "The target is my y variable for my model."
      ]
    },
    {
      "cell_type": "code",
      "execution_count": 180,
      "metadata": {
        "id": "lse1Zb4Zu7Y-"
      },
      "outputs": [],
      "source": [
        "y_train = tf.constant(train_df[\"target\"])"
      ]
    },
    {
      "cell_type": "markdown",
      "metadata": {
        "id": "PzZUJcn9u7Y-"
      },
      "source": [
        "First let's create a python object that can fit and predict a naive bayes classifier"
      ]
    },
    {
      "cell_type": "code",
      "execution_count": 181,
      "metadata": {
        "id": "W7s1aj9Cu7Y-"
      },
      "outputs": [],
      "source": [
        "class TFNaiveBayesClassifier:\n",
        "    dist = None\n",
        "\n",
        "    # X is the matrix containing the vectors for each sentence\n",
        "    # y is the list target values in the same order as the X matrix\n",
        "    def fit(self, X, y):\n",
        "        unique_y = np.unique(y)  # unique target values: 0,1\n",
        "        print(unique_y)\n",
        "        # `points_by_class` is a list of numpy arrays, one for each class.\n",
        "        # Each array contains the data points belonging to that class.\n",
        "        points_by_class = []\n",
        "        for c in unique_y:\n",
        "            class_indices = np.where(y == c)[0]  # Get indices of data points for class c\n",
        "            class_data = X.iloc[class_indices, :].values  # Get data for those indices\n",
        "            points_by_class.append(class_data)  # Add data of class c into the point_by_class list\n",
        "\n",
        "        mean_list = []\n",
        "        var_list = []\n",
        "        for i in range(0, len(points_by_class)):\n",
        "            mean_var, var_var = tf.nn.moments(tf.constant(points_by_class[i]), axes=[0])\n",
        "            mean_list.append(mean_var)\n",
        "            var_list.append(var_var)\n",
        "        mean = tf.stack(mean_list, 0)\n",
        "        var = tf.stack(var_list, 0)\n",
        "        # Create a 3x2 univariate normal distribution with the\n",
        "        # known mean and variance\n",
        "        self.dist = tfp.distributions.Normal(loc=mean, scale=tf.sqrt(var))\n",
        "\n",
        "    def predict(self, X):\n",
        "        assert self.dist is not None\n",
        "        nb_classes, nb_features = map(int, self.dist.scale.shape)\n",
        "\n",
        "        # uniform priors\n",
        "        priors = np.log(np.array([1. / nb_classes] * nb_classes))\n",
        "        # Convert priors to tf.float32 to match cond_probs\n",
        "        priors = tf.cast(priors, dtype=tf.float32)\n",
        "\n",
        "        # Conditional probabilities log P(x|c)\n",
        "        # (nb_samples, nb_classes, nb_features)\n",
        "        all_log_probs = self.dist.log_prob(\n",
        "            tf.reshape(\n",
        "                tf.tile(X, [1, nb_classes]), [-1, nb_classes, nb_features]))\n",
        "        # (nb_samples, nb_classes)\n",
        "        cond_probs = tf.reduce_sum(all_log_probs, axis=2)\n",
        "\n",
        "        # posterior log probability, log P(c) + log P(x|c)\n",
        "        joint_likelihood = tf.add(priors, cond_probs)\n",
        "\n",
        "        # normalize to get (log)-probabilities\n",
        "        norm_factor = tf.reduce_logsumexp(\n",
        "            joint_likelihood, axis=1, keepdims=True)\n",
        "\n",
        "        # Compute and return the predicted class probabilities (or labels if needed)\n",
        "        log_probs = joint_likelihood - norm_factor # Subtract norm_factor to normalize\n",
        "        #To get the predicted labels you can use:\n",
        "        # predicted_labels = tf.argmax(log_probs, axis=1) #Returns the index with the maximum log probability\n",
        "        return log_probs # or predicted_labels, depending on what you need"
      ]
    },
    {
      "cell_type": "markdown",
      "metadata": {
        "id": "f_ttVSI9u7Y_"
      },
      "source": [
        "Here we initialize our naive bayes model and fit it using the training data"
      ]
    },
    {
      "cell_type": "code",
      "execution_count": 182,
      "metadata": {
        "colab": {
          "base_uri": "https://localhost:8080/"
        },
        "id": "6RViY4ffu7Y_",
        "outputId": "5799408f-7c9e-4d34-8f48-fc6b442fd47f"
      },
      "outputs": [
        {
          "output_type": "stream",
          "name": "stdout",
          "text": [
            "[0 1]\n"
          ]
        }
      ],
      "source": [
        "tf_nb = TFNaiveBayesClassifier()\n",
        "tf_nb.fit(pd.DataFrame(X_train_matrix),\n",
        "          y_train)"
      ]
    },
    {
      "cell_type": "markdown",
      "metadata": {
        "id": "xsUZ-VxJu7Y_"
      },
      "source": [
        "predict probability of each target values in the test set"
      ]
    },
    {
      "cell_type": "code",
      "execution_count": 183,
      "metadata": {
        "id": "Y_SDl0Mpu7Y_"
      },
      "outputs": [],
      "source": [
        "y_pred = tf_nb.predict(X_test_matrix)"
      ]
    },
    {
      "cell_type": "markdown",
      "metadata": {
        "id": "OA3Sf1GJu7ZA"
      },
      "source": [
        "Create a dataframe containing the probability of each target given the text in each tweet."
      ]
    },
    {
      "cell_type": "code",
      "execution_count": 184,
      "metadata": {
        "colab": {
          "base_uri": "https://localhost:8080/",
          "height": 206
        },
        "id": "DpHDARNIu7ZA",
        "outputId": "70849ad1-c02f-4076-9f1b-077353ec4323"
      },
      "outputs": [
        {
          "output_type": "execute_result",
          "data": {
            "text/plain": [
              "           0         1\n",
              "0  -0.223999 -1.605957\n",
              "1 -20.051208  0.000000\n",
              "2  -7.355286 -0.000610\n",
              "3 -28.114563  0.000000\n",
              "4 -39.491333  0.000000"
            ],
            "text/html": [
              "\n",
              "  <div id=\"df-46f5d9ac-d870-4f34-a838-ebeb31fbd35a\" class=\"colab-df-container\">\n",
              "    <div>\n",
              "<style scoped>\n",
              "    .dataframe tbody tr th:only-of-type {\n",
              "        vertical-align: middle;\n",
              "    }\n",
              "\n",
              "    .dataframe tbody tr th {\n",
              "        vertical-align: top;\n",
              "    }\n",
              "\n",
              "    .dataframe thead th {\n",
              "        text-align: right;\n",
              "    }\n",
              "</style>\n",
              "<table border=\"1\" class=\"dataframe\">\n",
              "  <thead>\n",
              "    <tr style=\"text-align: right;\">\n",
              "      <th></th>\n",
              "      <th>0</th>\n",
              "      <th>1</th>\n",
              "    </tr>\n",
              "  </thead>\n",
              "  <tbody>\n",
              "    <tr>\n",
              "      <th>0</th>\n",
              "      <td>-0.223999</td>\n",
              "      <td>-1.605957</td>\n",
              "    </tr>\n",
              "    <tr>\n",
              "      <th>1</th>\n",
              "      <td>-20.051208</td>\n",
              "      <td>0.000000</td>\n",
              "    </tr>\n",
              "    <tr>\n",
              "      <th>2</th>\n",
              "      <td>-7.355286</td>\n",
              "      <td>-0.000610</td>\n",
              "    </tr>\n",
              "    <tr>\n",
              "      <th>3</th>\n",
              "      <td>-28.114563</td>\n",
              "      <td>0.000000</td>\n",
              "    </tr>\n",
              "    <tr>\n",
              "      <th>4</th>\n",
              "      <td>-39.491333</td>\n",
              "      <td>0.000000</td>\n",
              "    </tr>\n",
              "  </tbody>\n",
              "</table>\n",
              "</div>\n",
              "    <div class=\"colab-df-buttons\">\n",
              "\n",
              "  <div class=\"colab-df-container\">\n",
              "    <button class=\"colab-df-convert\" onclick=\"convertToInteractive('df-46f5d9ac-d870-4f34-a838-ebeb31fbd35a')\"\n",
              "            title=\"Convert this dataframe to an interactive table.\"\n",
              "            style=\"display:none;\">\n",
              "\n",
              "  <svg xmlns=\"http://www.w3.org/2000/svg\" height=\"24px\" viewBox=\"0 -960 960 960\">\n",
              "    <path d=\"M120-120v-720h720v720H120Zm60-500h600v-160H180v160Zm220 220h160v-160H400v160Zm0 220h160v-160H400v160ZM180-400h160v-160H180v160Zm440 0h160v-160H620v160ZM180-180h160v-160H180v160Zm440 0h160v-160H620v160Z\"/>\n",
              "  </svg>\n",
              "    </button>\n",
              "\n",
              "  <style>\n",
              "    .colab-df-container {\n",
              "      display:flex;\n",
              "      gap: 12px;\n",
              "    }\n",
              "\n",
              "    .colab-df-convert {\n",
              "      background-color: #E8F0FE;\n",
              "      border: none;\n",
              "      border-radius: 50%;\n",
              "      cursor: pointer;\n",
              "      display: none;\n",
              "      fill: #1967D2;\n",
              "      height: 32px;\n",
              "      padding: 0 0 0 0;\n",
              "      width: 32px;\n",
              "    }\n",
              "\n",
              "    .colab-df-convert:hover {\n",
              "      background-color: #E2EBFA;\n",
              "      box-shadow: 0px 1px 2px rgba(60, 64, 67, 0.3), 0px 1px 3px 1px rgba(60, 64, 67, 0.15);\n",
              "      fill: #174EA6;\n",
              "    }\n",
              "\n",
              "    .colab-df-buttons div {\n",
              "      margin-bottom: 4px;\n",
              "    }\n",
              "\n",
              "    [theme=dark] .colab-df-convert {\n",
              "      background-color: #3B4455;\n",
              "      fill: #D2E3FC;\n",
              "    }\n",
              "\n",
              "    [theme=dark] .colab-df-convert:hover {\n",
              "      background-color: #434B5C;\n",
              "      box-shadow: 0px 1px 3px 1px rgba(0, 0, 0, 0.15);\n",
              "      filter: drop-shadow(0px 1px 2px rgba(0, 0, 0, 0.3));\n",
              "      fill: #FFFFFF;\n",
              "    }\n",
              "  </style>\n",
              "\n",
              "    <script>\n",
              "      const buttonEl =\n",
              "        document.querySelector('#df-46f5d9ac-d870-4f34-a838-ebeb31fbd35a button.colab-df-convert');\n",
              "      buttonEl.style.display =\n",
              "        google.colab.kernel.accessAllowed ? 'block' : 'none';\n",
              "\n",
              "      async function convertToInteractive(key) {\n",
              "        const element = document.querySelector('#df-46f5d9ac-d870-4f34-a838-ebeb31fbd35a');\n",
              "        const dataTable =\n",
              "          await google.colab.kernel.invokeFunction('convertToInteractive',\n",
              "                                                    [key], {});\n",
              "        if (!dataTable) return;\n",
              "\n",
              "        const docLinkHtml = 'Like what you see? Visit the ' +\n",
              "          '<a target=\"_blank\" href=https://colab.research.google.com/notebooks/data_table.ipynb>data table notebook</a>'\n",
              "          + ' to learn more about interactive tables.';\n",
              "        element.innerHTML = '';\n",
              "        dataTable['output_type'] = 'display_data';\n",
              "        await google.colab.output.renderOutput(dataTable, element);\n",
              "        const docLink = document.createElement('div');\n",
              "        docLink.innerHTML = docLinkHtml;\n",
              "        element.appendChild(docLink);\n",
              "      }\n",
              "    </script>\n",
              "  </div>\n",
              "\n",
              "\n",
              "<div id=\"df-e0a64ba9-1a6c-451b-b02c-8d282972e27a\">\n",
              "  <button class=\"colab-df-quickchart\" onclick=\"quickchart('df-e0a64ba9-1a6c-451b-b02c-8d282972e27a')\"\n",
              "            title=\"Suggest charts\"\n",
              "            style=\"display:none;\">\n",
              "\n",
              "<svg xmlns=\"http://www.w3.org/2000/svg\" height=\"24px\"viewBox=\"0 0 24 24\"\n",
              "     width=\"24px\">\n",
              "    <g>\n",
              "        <path d=\"M19 3H5c-1.1 0-2 .9-2 2v14c0 1.1.9 2 2 2h14c1.1 0 2-.9 2-2V5c0-1.1-.9-2-2-2zM9 17H7v-7h2v7zm4 0h-2V7h2v10zm4 0h-2v-4h2v4z\"/>\n",
              "    </g>\n",
              "</svg>\n",
              "  </button>\n",
              "\n",
              "<style>\n",
              "  .colab-df-quickchart {\n",
              "      --bg-color: #E8F0FE;\n",
              "      --fill-color: #1967D2;\n",
              "      --hover-bg-color: #E2EBFA;\n",
              "      --hover-fill-color: #174EA6;\n",
              "      --disabled-fill-color: #AAA;\n",
              "      --disabled-bg-color: #DDD;\n",
              "  }\n",
              "\n",
              "  [theme=dark] .colab-df-quickchart {\n",
              "      --bg-color: #3B4455;\n",
              "      --fill-color: #D2E3FC;\n",
              "      --hover-bg-color: #434B5C;\n",
              "      --hover-fill-color: #FFFFFF;\n",
              "      --disabled-bg-color: #3B4455;\n",
              "      --disabled-fill-color: #666;\n",
              "  }\n",
              "\n",
              "  .colab-df-quickchart {\n",
              "    background-color: var(--bg-color);\n",
              "    border: none;\n",
              "    border-radius: 50%;\n",
              "    cursor: pointer;\n",
              "    display: none;\n",
              "    fill: var(--fill-color);\n",
              "    height: 32px;\n",
              "    padding: 0;\n",
              "    width: 32px;\n",
              "  }\n",
              "\n",
              "  .colab-df-quickchart:hover {\n",
              "    background-color: var(--hover-bg-color);\n",
              "    box-shadow: 0 1px 2px rgba(60, 64, 67, 0.3), 0 1px 3px 1px rgba(60, 64, 67, 0.15);\n",
              "    fill: var(--button-hover-fill-color);\n",
              "  }\n",
              "\n",
              "  .colab-df-quickchart-complete:disabled,\n",
              "  .colab-df-quickchart-complete:disabled:hover {\n",
              "    background-color: var(--disabled-bg-color);\n",
              "    fill: var(--disabled-fill-color);\n",
              "    box-shadow: none;\n",
              "  }\n",
              "\n",
              "  .colab-df-spinner {\n",
              "    border: 2px solid var(--fill-color);\n",
              "    border-color: transparent;\n",
              "    border-bottom-color: var(--fill-color);\n",
              "    animation:\n",
              "      spin 1s steps(1) infinite;\n",
              "  }\n",
              "\n",
              "  @keyframes spin {\n",
              "    0% {\n",
              "      border-color: transparent;\n",
              "      border-bottom-color: var(--fill-color);\n",
              "      border-left-color: var(--fill-color);\n",
              "    }\n",
              "    20% {\n",
              "      border-color: transparent;\n",
              "      border-left-color: var(--fill-color);\n",
              "      border-top-color: var(--fill-color);\n",
              "    }\n",
              "    30% {\n",
              "      border-color: transparent;\n",
              "      border-left-color: var(--fill-color);\n",
              "      border-top-color: var(--fill-color);\n",
              "      border-right-color: var(--fill-color);\n",
              "    }\n",
              "    40% {\n",
              "      border-color: transparent;\n",
              "      border-right-color: var(--fill-color);\n",
              "      border-top-color: var(--fill-color);\n",
              "    }\n",
              "    60% {\n",
              "      border-color: transparent;\n",
              "      border-right-color: var(--fill-color);\n",
              "    }\n",
              "    80% {\n",
              "      border-color: transparent;\n",
              "      border-right-color: var(--fill-color);\n",
              "      border-bottom-color: var(--fill-color);\n",
              "    }\n",
              "    90% {\n",
              "      border-color: transparent;\n",
              "      border-bottom-color: var(--fill-color);\n",
              "    }\n",
              "  }\n",
              "</style>\n",
              "\n",
              "  <script>\n",
              "    async function quickchart(key) {\n",
              "      const quickchartButtonEl =\n",
              "        document.querySelector('#' + key + ' button');\n",
              "      quickchartButtonEl.disabled = true;  // To prevent multiple clicks.\n",
              "      quickchartButtonEl.classList.add('colab-df-spinner');\n",
              "      try {\n",
              "        const charts = await google.colab.kernel.invokeFunction(\n",
              "            'suggestCharts', [key], {});\n",
              "      } catch (error) {\n",
              "        console.error('Error during call to suggestCharts:', error);\n",
              "      }\n",
              "      quickchartButtonEl.classList.remove('colab-df-spinner');\n",
              "      quickchartButtonEl.classList.add('colab-df-quickchart-complete');\n",
              "    }\n",
              "    (() => {\n",
              "      let quickchartButtonEl =\n",
              "        document.querySelector('#df-e0a64ba9-1a6c-451b-b02c-8d282972e27a button');\n",
              "      quickchartButtonEl.style.display =\n",
              "        google.colab.kernel.accessAllowed ? 'block' : 'none';\n",
              "    })();\n",
              "  </script>\n",
              "</div>\n",
              "\n",
              "    </div>\n",
              "  </div>\n"
            ],
            "application/vnd.google.colaboratory.intrinsic+json": {
              "type": "dataframe",
              "variable_name": "predProbGivenText_df",
              "summary": "{\n  \"name\": \"predProbGivenText_df\",\n  \"rows\": 3263,\n  \"fields\": [\n    {\n      \"column\": 0,\n      \"properties\": {\n        \"dtype\": \"float32\",\n        \"num_unique_values\": 1673,\n        \"samples\": [\n          -2.21722412109375,\n          -26.1669921875,\n          -36.17706298828125\n        ],\n        \"semantic_type\": \"\",\n        \"description\": \"\"\n      }\n    },\n    {\n      \"column\": 1,\n      \"properties\": {\n        \"dtype\": \"float32\",\n        \"num_unique_values\": 2097,\n        \"samples\": [\n          -4.29608154296875,\n          -14.25927734375,\n          -37.95013427734375\n        ],\n        \"semantic_type\": \"\",\n        \"description\": \"\"\n      }\n    }\n  ]\n}"
            }
          },
          "metadata": {},
          "execution_count": 184
        }
      ],
      "source": [
        "predProbGivenText_df = pd.DataFrame(y_pred.numpy())\n",
        "predProbGivenText_df.head()"
      ]
    },
    {
      "cell_type": "markdown",
      "metadata": {
        "id": "hhojGEK0u7ZA"
      },
      "source": [
        "# Keyword Naive Bayes"
      ]
    },
    {
      "cell_type": "markdown",
      "metadata": {
        "id": "nDJC7OPRu7ZA"
      },
      "source": [
        "Let's look at our unique key words."
      ]
    },
    {
      "cell_type": "code",
      "execution_count": 185,
      "metadata": {
        "colab": {
          "base_uri": "https://localhost:8080/"
        },
        "id": "NFOepLD_u7ZB",
        "outputId": "ae36dbe7-1c91-454d-be31-7da530ad8d3c"
      },
      "outputs": [
        {
          "output_type": "stream",
          "name": "stdout",
          "text": [
            "221\n",
            "['ablaze' 'accident' 'aftershock' 'airplane%20accident' 'ambulance'\n",
            " 'annihilated' 'annihilation' 'apocalypse' 'armageddon' 'army' 'arson'\n",
            " 'arsonist' 'attack' 'attacked' 'avalanche' 'battle' 'bioterror'\n",
            " 'bioterrorism' 'blaze' 'blazing' 'bleeding' 'blew%20up' 'blight'\n",
            " 'blizzard' 'blood' 'bloody' 'blown%20up' 'body%20bag' 'body%20bagging'\n",
            " 'body%20bags' 'bomb' 'bombed' 'bombing' 'bridge%20collapse'\n",
            " 'buildings%20burning' 'buildings%20on%20fire' 'burned' 'burning'\n",
            " 'burning%20buildings' 'bush%20fires' 'casualties' 'casualty'\n",
            " 'catastrophe' 'catastrophic' 'chemical%20emergency' 'cliff%20fall'\n",
            " 'collapse' 'collapsed' 'collide' 'collided' 'collision' 'crash' 'crashed'\n",
            " 'crush' 'crushed' 'curfew' 'cyclone' 'damage' 'danger' 'dead' 'death'\n",
            " 'deaths' 'debris' 'deluge' 'deluged' 'demolish' 'demolished' 'demolition'\n",
            " 'derail' 'derailed' 'derailment' 'desolate' 'desolation' 'destroy'\n",
            " 'destroyed' 'destruction' 'detonate' 'detonation' 'devastated'\n",
            " 'devastation' 'disaster' 'displaced' 'drought' 'drown' 'drowned'\n",
            " 'drowning' 'dust%20storm' 'earthquake' 'electrocute' 'electrocuted'\n",
            " 'emergency' 'emergency%20plan' 'emergency%20services' 'engulfed'\n",
            " 'epicentre' 'evacuate' 'evacuated' 'evacuation' 'explode' 'exploded'\n",
            " 'explosion' 'eyewitness' 'famine' 'fatal' 'fatalities' 'fatality' 'fear'\n",
            " 'fire' 'fire%20truck' 'first%20responders' 'flames' 'flattened' 'flood'\n",
            " 'flooding' 'floods' 'forest%20fire' 'forest%20fires' 'hail' 'hailstorm'\n",
            " 'harm' 'hazard' 'hazardous' 'heat%20wave' 'hellfire' 'hijack' 'hijacker'\n",
            " 'hijacking' 'hostage' 'hostages' 'hurricane' 'injured' 'injuries'\n",
            " 'injury' 'inundated' 'inundation' 'landslide' 'lava' 'lightning'\n",
            " 'loud%20bang' 'mass%20murder' 'mass%20murderer' 'massacre' 'mayhem'\n",
            " 'meltdown' 'military' 'mudslide' 'natural%20disaster'\n",
            " 'nuclear%20disaster' 'nuclear%20reactor' 'obliterate' 'obliterated'\n",
            " 'obliteration' 'oil%20spill' 'outbreak' 'pandemonium' 'panic' 'panicking'\n",
            " 'police' 'quarantine' 'quarantined' 'radiation%20emergency' 'rainstorm'\n",
            " 'razed' 'refugees' 'rescue' 'rescued' 'rescuers' 'riot' 'rioting'\n",
            " 'rubble' 'ruin' 'sandstorm' 'screamed' 'screaming' 'screams' 'seismic'\n",
            " 'sinkhole' 'sinking' 'siren' 'sirens' 'smoke' 'snowstorm' 'storm'\n",
            " 'stretcher' 'structural%20failure' 'suicide%20bomb' 'suicide%20bomber'\n",
            " 'suicide%20bombing' 'sunk' 'survive' 'survived' 'survivors' 'terrorism'\n",
            " 'terrorist' 'threat' 'thunder' 'thunderstorm' 'tornado' 'tragedy'\n",
            " 'trapped' 'trauma' 'traumatised' 'trouble' 'tsunami' 'twister' 'typhoon'\n",
            " 'upheaval' 'violent%20storm' 'volcano' 'war%20zone' 'weapon' 'weapons'\n",
            " 'whirlwind' 'wild%20fires' 'wildfire' 'windstorm' 'wounded' 'wounds'\n",
            " 'wreck' 'wreckage' 'wrecked']\n"
          ]
        }
      ],
      "source": [
        "uniq_keywords = train_df[\"keyword\"].unique()[1:]\n",
        "print(len(uniq_keywords))\n",
        "print(uniq_keywords)"
      ]
    },
    {
      "cell_type": "markdown",
      "metadata": {
        "id": "G0bHDhNau7ZB"
      },
      "source": [
        "I noticed that there are some keywords that are very similar to each other so I decided to manually make them the same word."
      ]
    },
    {
      "cell_type": "code",
      "execution_count": 186,
      "metadata": {
        "id": "80bGUNZNu7ZB"
      },
      "outputs": [],
      "source": [
        "def replace_keywords(df_og):\n",
        "    df = df_og.copy()\n",
        "    df[\"keyword\"] = df[\"keyword\"].replace(\"ablaze\",\"blaze\")\n",
        "    df[\"keyword\"] = df[\"keyword\"].replace(\"blazing\",\"blaze\")\n",
        "    df[\"keyword\"] = df[\"keyword\"].replace(\"annihilated\",\"annihilation\")\n",
        "    df[\"keyword\"] = df[\"keyword\"].replace(\"attacked\",\"attack\")\n",
        "    df[\"keyword\"] = df[\"keyword\"].replace(\"bioterror\",\"bioterrorism\")\n",
        "    df[\"keyword\"] = df[\"keyword\"].replace(\"blown%20up\",\"blew%20up\")\n",
        "    df[\"keyword\"] = df[\"keyword\"].replace(\"bloody\",\"blood\")\n",
        "    df[\"keyword\"] = df[\"keyword\"].replace(\"bleeding\",\"blood\")\n",
        "    df[\"keyword\"] = df[\"keyword\"].replace(\"body%20bags\",\"body%20bag\")\n",
        "    df[\"keyword\"] = df[\"keyword\"].replace(\"body%20bagging\",\"body%20bag\")\n",
        "    df[\"keyword\"] = df[\"keyword\"].replace(\"bombed\",\"bomb\")\n",
        "    df[\"keyword\"] = df[\"keyword\"].replace(\"bombing\",\"bomb\")\n",
        "    df[\"keyword\"] = df[\"keyword\"].replace(\"burning%20buildings\",\"buildings%20burning\")\n",
        "    df[\"keyword\"] = df[\"keyword\"].replace(\"buildings%20on%20fire\",\"buildings%20burning\")\n",
        "    df[\"keyword\"] = df[\"keyword\"].replace(\"burned\",\"burning\")\n",
        "    df[\"keyword\"] = df[\"keyword\"].replace(\"casualties\",\"casualty\")\n",
        "    df[\"keyword\"] = df[\"keyword\"].replace(\"catastrophe\",\"catastrophic\")\n",
        "    df[\"keyword\"] = df[\"keyword\"].replace(\"collapse\",\"collapsed\")\n",
        "    df[\"keyword\"] = df[\"keyword\"].replace(\"collide\",\"collision\")\n",
        "    df[\"keyword\"] = df[\"keyword\"].replace(\"collided\",\"collision\")\n",
        "    df[\"keyword\"] = df[\"keyword\"].replace(\"crash\",\"crashed\")\n",
        "    df[\"keyword\"] = df[\"keyword\"].replace(\"crush\",\"crushed\")\n",
        "    df[\"keyword\"] = df[\"keyword\"].replace(\"dead\",\"death\")\n",
        "    df[\"keyword\"] = df[\"keyword\"].replace(\"deaths\",\"death\")\n",
        "    df[\"keyword\"] = df[\"keyword\"].replace(\"deluge\",\"deluged\")\n",
        "    df[\"keyword\"] = df[\"keyword\"].replace(\"demolished\",\"demolish\")\n",
        "    df[\"keyword\"] = df[\"keyword\"].replace(\"demolition\",\"demolish\")\n",
        "    df[\"keyword\"] = df[\"keyword\"].replace(\"derailment\",\"derail\")\n",
        "    df[\"keyword\"] = df[\"keyword\"].replace(\"derailed\",\"derail\")\n",
        "    df[\"keyword\"] = df[\"keyword\"].replace(\"desolation\",\"desolate\")\n",
        "    df[\"keyword\"] = df[\"keyword\"].replace(\"destroyed\",\"destroy\")\n",
        "    df[\"keyword\"] = df[\"keyword\"].replace(\"destruction\",\"destroy\")\n",
        "    df[\"keyword\"] = df[\"keyword\"].replace(\"detonate\",\"detonation\")\n",
        "    df[\"keyword\"] = df[\"keyword\"].replace(\"devastated\",\"devastation\")\n",
        "    df[\"keyword\"] = df[\"keyword\"].replace(\"drowned\",\"drown\")\n",
        "    df[\"keyword\"] = df[\"keyword\"].replace(\"drowning\",\"drown\")\n",
        "    df[\"keyword\"] = df[\"keyword\"].replace(\"electrocute\",\"electrocuted\")\n",
        "    df[\"keyword\"] = df[\"keyword\"].replace(\"evacuated\",\"evacuate\")\n",
        "    df[\"keyword\"] = df[\"keyword\"].replace(\"evacuation\",\"evacuate\")\n",
        "    df[\"keyword\"] = df[\"keyword\"].replace(\"explode\",\"explosion\")\n",
        "    df[\"keyword\"] = df[\"keyword\"].replace(\"exploded\",\"explosion\")\n",
        "    df[\"keyword\"] = df[\"keyword\"].replace(\"fatality\",\"fatalities\")\n",
        "    df[\"keyword\"] = df[\"keyword\"].replace(\"floods\",\"flood\")\n",
        "    df[\"keyword\"] = df[\"keyword\"].replace(\"flooding\",\"flood\")\n",
        "    df[\"keyword\"] = df[\"keyword\"].replace(\"bush%20fires\",\"forest%20fire\")\n",
        "    df[\"keyword\"] = df[\"keyword\"].replace(\"forest%20fires\",\"forest%20fire\")\n",
        "    df[\"keyword\"] = df[\"keyword\"].replace(\"hailstorm\",\"hail\")\n",
        "    df[\"keyword\"] = df[\"keyword\"].replace(\"hazardous\",\"hazard\")\n",
        "    df[\"keyword\"] = df[\"keyword\"].replace(\"hijacking\",\"hijack\")\n",
        "    df[\"keyword\"] = df[\"keyword\"].replace(\"hijacker\",\"hijack\")\n",
        "    df[\"keyword\"] = df[\"keyword\"].replace(\"hostages\",\"hostage\")\n",
        "    df[\"keyword\"] = df[\"keyword\"].replace(\"injured\",\"injury\")\n",
        "    df[\"keyword\"] = df[\"keyword\"].replace(\"injures\",\"injury\")\n",
        "    df[\"keyword\"] = df[\"keyword\"].replace(\"inundated\",\"inundation\")\n",
        "    df[\"keyword\"] = df[\"keyword\"].replace(\"mass%20murderer\",\"mass%20murder\")\n",
        "    df[\"keyword\"] = df[\"keyword\"].replace(\"obliterated\",\"obliterate\")\n",
        "    df[\"keyword\"] = df[\"keyword\"].replace(\"obliteration\",\"obliterate\")\n",
        "    df[\"keyword\"] = df[\"keyword\"].replace(\"panicking\",\"panic\")\n",
        "    df[\"keyword\"] = df[\"keyword\"].replace(\"quarantined\",\"quarantine\")\n",
        "    df[\"keyword\"] = df[\"keyword\"].replace(\"rescuers\",\"rescue\")\n",
        "    df[\"keyword\"] = df[\"keyword\"].replace(\"rescued\",\"rescue\")\n",
        "    df[\"keyword\"] = df[\"keyword\"].replace(\"rioting\",\"riot\")\n",
        "    df[\"keyword\"] = df[\"keyword\"].replace(\"dust%20storm\",\"sandstorm\")\n",
        "    df[\"keyword\"] = df[\"keyword\"].replace(\"screamed\",\"screams\")\n",
        "    df[\"keyword\"] = df[\"keyword\"].replace(\"screaming\",\"screams\")\n",
        "    df[\"keyword\"] = df[\"keyword\"].replace(\"sirens\",\"siren\")\n",
        "    df[\"keyword\"] = df[\"keyword\"].replace(\"suicide%20bomb\",\"suicide%20bomber\")\n",
        "    df[\"keyword\"] = df[\"keyword\"].replace(\"suicide%20bombing\",\"suicide%20bomber\")\n",
        "    df[\"keyword\"] = df[\"keyword\"].replace(\"survived\",\"survive\")\n",
        "    df[\"keyword\"] = df[\"keyword\"].replace(\"survivors\",\"survive\")\n",
        "    df[\"keyword\"] = df[\"keyword\"].replace(\"terrorism\",\"terrorist\")\n",
        "    df[\"keyword\"] = df[\"keyword\"].replace(\"thunderstorm\",\"thunder\")\n",
        "    df[\"keyword\"] = df[\"keyword\"].replace(\"traumatised\",\"trauma\")\n",
        "    df[\"keyword\"] = df[\"keyword\"].replace(\"twister\",\"tornado\")\n",
        "    df[\"keyword\"] = df[\"keyword\"].replace(\"typhoon\",\"hurricane\")\n",
        "    df[\"keyword\"] = df[\"keyword\"].replace(\"weapons\",\"weapon\")\n",
        "    df[\"keyword\"] = df[\"keyword\"].replace(\"wild%20fires\",\"wildfire\")\n",
        "    df[\"keyword\"] = df[\"keyword\"].replace(\"wounded\",\"wounds\")\n",
        "    df[\"keyword\"] = df[\"keyword\"].replace(\"wrecked\",\"wreckage\")\n",
        "    df[\"keyword\"] = df[\"keyword\"].replace(\"wreck\",\"wreckage\")\n",
        "    return(df)"
      ]
    },
    {
      "cell_type": "code",
      "execution_count": 187,
      "metadata": {
        "id": "sI7TEVeru7ZC"
      },
      "outputs": [],
      "source": [
        "train_df = replace_keywords(train_df)\n",
        "test_df = replace_keywords(test_df)"
      ]
    },
    {
      "cell_type": "markdown",
      "metadata": {
        "id": "EMP7UiRuu7ZD"
      },
      "source": [
        "Using the updated set of keywords let's get the probability for each target given a specific key word."
      ]
    },
    {
      "cell_type": "code",
      "execution_count": 188,
      "metadata": {
        "colab": {
          "base_uri": "https://localhost:8080/",
          "height": 224
        },
        "id": "DyaXJ7Miu7ZD",
        "outputId": "61fa76a8-bc20-4406-95b4-959d43951e42"
      },
      "outputs": [
        {
          "output_type": "stream",
          "name": "stdout",
          "text": [
            "142\n"
          ]
        },
        {
          "output_type": "execute_result",
          "data": {
            "text/plain": [
              "               keyword  keywordPred0  keywordPred1\n",
              "0                blaze      0.824074      0.175926\n",
              "0             accident      0.314286      0.685714\n",
              "0           aftershock      1.000000      0.000000\n",
              "0  airplane%20accident      0.142857      0.857143\n",
              "0            ambulance      0.473684      0.526316"
            ],
            "text/html": [
              "\n",
              "  <div id=\"df-ab823119-ca82-4c80-bea6-3f00a6cd6e0b\" class=\"colab-df-container\">\n",
              "    <div>\n",
              "<style scoped>\n",
              "    .dataframe tbody tr th:only-of-type {\n",
              "        vertical-align: middle;\n",
              "    }\n",
              "\n",
              "    .dataframe tbody tr th {\n",
              "        vertical-align: top;\n",
              "    }\n",
              "\n",
              "    .dataframe thead th {\n",
              "        text-align: right;\n",
              "    }\n",
              "</style>\n",
              "<table border=\"1\" class=\"dataframe\">\n",
              "  <thead>\n",
              "    <tr style=\"text-align: right;\">\n",
              "      <th></th>\n",
              "      <th>keyword</th>\n",
              "      <th>keywordPred0</th>\n",
              "      <th>keywordPred1</th>\n",
              "    </tr>\n",
              "  </thead>\n",
              "  <tbody>\n",
              "    <tr>\n",
              "      <th>0</th>\n",
              "      <td>blaze</td>\n",
              "      <td>0.824074</td>\n",
              "      <td>0.175926</td>\n",
              "    </tr>\n",
              "    <tr>\n",
              "      <th>0</th>\n",
              "      <td>accident</td>\n",
              "      <td>0.314286</td>\n",
              "      <td>0.685714</td>\n",
              "    </tr>\n",
              "    <tr>\n",
              "      <th>0</th>\n",
              "      <td>aftershock</td>\n",
              "      <td>1.000000</td>\n",
              "      <td>0.000000</td>\n",
              "    </tr>\n",
              "    <tr>\n",
              "      <th>0</th>\n",
              "      <td>airplane%20accident</td>\n",
              "      <td>0.142857</td>\n",
              "      <td>0.857143</td>\n",
              "    </tr>\n",
              "    <tr>\n",
              "      <th>0</th>\n",
              "      <td>ambulance</td>\n",
              "      <td>0.473684</td>\n",
              "      <td>0.526316</td>\n",
              "    </tr>\n",
              "  </tbody>\n",
              "</table>\n",
              "</div>\n",
              "    <div class=\"colab-df-buttons\">\n",
              "\n",
              "  <div class=\"colab-df-container\">\n",
              "    <button class=\"colab-df-convert\" onclick=\"convertToInteractive('df-ab823119-ca82-4c80-bea6-3f00a6cd6e0b')\"\n",
              "            title=\"Convert this dataframe to an interactive table.\"\n",
              "            style=\"display:none;\">\n",
              "\n",
              "  <svg xmlns=\"http://www.w3.org/2000/svg\" height=\"24px\" viewBox=\"0 -960 960 960\">\n",
              "    <path d=\"M120-120v-720h720v720H120Zm60-500h600v-160H180v160Zm220 220h160v-160H400v160Zm0 220h160v-160H400v160ZM180-400h160v-160H180v160Zm440 0h160v-160H620v160ZM180-180h160v-160H180v160Zm440 0h160v-160H620v160Z\"/>\n",
              "  </svg>\n",
              "    </button>\n",
              "\n",
              "  <style>\n",
              "    .colab-df-container {\n",
              "      display:flex;\n",
              "      gap: 12px;\n",
              "    }\n",
              "\n",
              "    .colab-df-convert {\n",
              "      background-color: #E8F0FE;\n",
              "      border: none;\n",
              "      border-radius: 50%;\n",
              "      cursor: pointer;\n",
              "      display: none;\n",
              "      fill: #1967D2;\n",
              "      height: 32px;\n",
              "      padding: 0 0 0 0;\n",
              "      width: 32px;\n",
              "    }\n",
              "\n",
              "    .colab-df-convert:hover {\n",
              "      background-color: #E2EBFA;\n",
              "      box-shadow: 0px 1px 2px rgba(60, 64, 67, 0.3), 0px 1px 3px 1px rgba(60, 64, 67, 0.15);\n",
              "      fill: #174EA6;\n",
              "    }\n",
              "\n",
              "    .colab-df-buttons div {\n",
              "      margin-bottom: 4px;\n",
              "    }\n",
              "\n",
              "    [theme=dark] .colab-df-convert {\n",
              "      background-color: #3B4455;\n",
              "      fill: #D2E3FC;\n",
              "    }\n",
              "\n",
              "    [theme=dark] .colab-df-convert:hover {\n",
              "      background-color: #434B5C;\n",
              "      box-shadow: 0px 1px 3px 1px rgba(0, 0, 0, 0.15);\n",
              "      filter: drop-shadow(0px 1px 2px rgba(0, 0, 0, 0.3));\n",
              "      fill: #FFFFFF;\n",
              "    }\n",
              "  </style>\n",
              "\n",
              "    <script>\n",
              "      const buttonEl =\n",
              "        document.querySelector('#df-ab823119-ca82-4c80-bea6-3f00a6cd6e0b button.colab-df-convert');\n",
              "      buttonEl.style.display =\n",
              "        google.colab.kernel.accessAllowed ? 'block' : 'none';\n",
              "\n",
              "      async function convertToInteractive(key) {\n",
              "        const element = document.querySelector('#df-ab823119-ca82-4c80-bea6-3f00a6cd6e0b');\n",
              "        const dataTable =\n",
              "          await google.colab.kernel.invokeFunction('convertToInteractive',\n",
              "                                                    [key], {});\n",
              "        if (!dataTable) return;\n",
              "\n",
              "        const docLinkHtml = 'Like what you see? Visit the ' +\n",
              "          '<a target=\"_blank\" href=https://colab.research.google.com/notebooks/data_table.ipynb>data table notebook</a>'\n",
              "          + ' to learn more about interactive tables.';\n",
              "        element.innerHTML = '';\n",
              "        dataTable['output_type'] = 'display_data';\n",
              "        await google.colab.output.renderOutput(dataTable, element);\n",
              "        const docLink = document.createElement('div');\n",
              "        docLink.innerHTML = docLinkHtml;\n",
              "        element.appendChild(docLink);\n",
              "      }\n",
              "    </script>\n",
              "  </div>\n",
              "\n",
              "\n",
              "<div id=\"df-b56ce950-33ab-4100-bbb4-e49536ddb47b\">\n",
              "  <button class=\"colab-df-quickchart\" onclick=\"quickchart('df-b56ce950-33ab-4100-bbb4-e49536ddb47b')\"\n",
              "            title=\"Suggest charts\"\n",
              "            style=\"display:none;\">\n",
              "\n",
              "<svg xmlns=\"http://www.w3.org/2000/svg\" height=\"24px\"viewBox=\"0 0 24 24\"\n",
              "     width=\"24px\">\n",
              "    <g>\n",
              "        <path d=\"M19 3H5c-1.1 0-2 .9-2 2v14c0 1.1.9 2 2 2h14c1.1 0 2-.9 2-2V5c0-1.1-.9-2-2-2zM9 17H7v-7h2v7zm4 0h-2V7h2v10zm4 0h-2v-4h2v4z\"/>\n",
              "    </g>\n",
              "</svg>\n",
              "  </button>\n",
              "\n",
              "<style>\n",
              "  .colab-df-quickchart {\n",
              "      --bg-color: #E8F0FE;\n",
              "      --fill-color: #1967D2;\n",
              "      --hover-bg-color: #E2EBFA;\n",
              "      --hover-fill-color: #174EA6;\n",
              "      --disabled-fill-color: #AAA;\n",
              "      --disabled-bg-color: #DDD;\n",
              "  }\n",
              "\n",
              "  [theme=dark] .colab-df-quickchart {\n",
              "      --bg-color: #3B4455;\n",
              "      --fill-color: #D2E3FC;\n",
              "      --hover-bg-color: #434B5C;\n",
              "      --hover-fill-color: #FFFFFF;\n",
              "      --disabled-bg-color: #3B4455;\n",
              "      --disabled-fill-color: #666;\n",
              "  }\n",
              "\n",
              "  .colab-df-quickchart {\n",
              "    background-color: var(--bg-color);\n",
              "    border: none;\n",
              "    border-radius: 50%;\n",
              "    cursor: pointer;\n",
              "    display: none;\n",
              "    fill: var(--fill-color);\n",
              "    height: 32px;\n",
              "    padding: 0;\n",
              "    width: 32px;\n",
              "  }\n",
              "\n",
              "  .colab-df-quickchart:hover {\n",
              "    background-color: var(--hover-bg-color);\n",
              "    box-shadow: 0 1px 2px rgba(60, 64, 67, 0.3), 0 1px 3px 1px rgba(60, 64, 67, 0.15);\n",
              "    fill: var(--button-hover-fill-color);\n",
              "  }\n",
              "\n",
              "  .colab-df-quickchart-complete:disabled,\n",
              "  .colab-df-quickchart-complete:disabled:hover {\n",
              "    background-color: var(--disabled-bg-color);\n",
              "    fill: var(--disabled-fill-color);\n",
              "    box-shadow: none;\n",
              "  }\n",
              "\n",
              "  .colab-df-spinner {\n",
              "    border: 2px solid var(--fill-color);\n",
              "    border-color: transparent;\n",
              "    border-bottom-color: var(--fill-color);\n",
              "    animation:\n",
              "      spin 1s steps(1) infinite;\n",
              "  }\n",
              "\n",
              "  @keyframes spin {\n",
              "    0% {\n",
              "      border-color: transparent;\n",
              "      border-bottom-color: var(--fill-color);\n",
              "      border-left-color: var(--fill-color);\n",
              "    }\n",
              "    20% {\n",
              "      border-color: transparent;\n",
              "      border-left-color: var(--fill-color);\n",
              "      border-top-color: var(--fill-color);\n",
              "    }\n",
              "    30% {\n",
              "      border-color: transparent;\n",
              "      border-left-color: var(--fill-color);\n",
              "      border-top-color: var(--fill-color);\n",
              "      border-right-color: var(--fill-color);\n",
              "    }\n",
              "    40% {\n",
              "      border-color: transparent;\n",
              "      border-right-color: var(--fill-color);\n",
              "      border-top-color: var(--fill-color);\n",
              "    }\n",
              "    60% {\n",
              "      border-color: transparent;\n",
              "      border-right-color: var(--fill-color);\n",
              "    }\n",
              "    80% {\n",
              "      border-color: transparent;\n",
              "      border-right-color: var(--fill-color);\n",
              "      border-bottom-color: var(--fill-color);\n",
              "    }\n",
              "    90% {\n",
              "      border-color: transparent;\n",
              "      border-bottom-color: var(--fill-color);\n",
              "    }\n",
              "  }\n",
              "</style>\n",
              "\n",
              "  <script>\n",
              "    async function quickchart(key) {\n",
              "      const quickchartButtonEl =\n",
              "        document.querySelector('#' + key + ' button');\n",
              "      quickchartButtonEl.disabled = true;  // To prevent multiple clicks.\n",
              "      quickchartButtonEl.classList.add('colab-df-spinner');\n",
              "      try {\n",
              "        const charts = await google.colab.kernel.invokeFunction(\n",
              "            'suggestCharts', [key], {});\n",
              "      } catch (error) {\n",
              "        console.error('Error during call to suggestCharts:', error);\n",
              "      }\n",
              "      quickchartButtonEl.classList.remove('colab-df-spinner');\n",
              "      quickchartButtonEl.classList.add('colab-df-quickchart-complete');\n",
              "    }\n",
              "    (() => {\n",
              "      let quickchartButtonEl =\n",
              "        document.querySelector('#df-b56ce950-33ab-4100-bbb4-e49536ddb47b button');\n",
              "      quickchartButtonEl.style.display =\n",
              "        google.colab.kernel.accessAllowed ? 'block' : 'none';\n",
              "    })();\n",
              "  </script>\n",
              "</div>\n",
              "\n",
              "    </div>\n",
              "  </div>\n"
            ],
            "application/vnd.google.colaboratory.intrinsic+json": {
              "type": "dataframe",
              "variable_name": "predProbGivenKeyWord_df",
              "summary": "{\n  \"name\": \"predProbGivenKeyWord_df\",\n  \"rows\": 142,\n  \"fields\": [\n    {\n      \"column\": \"keyword\",\n      \"properties\": {\n        \"dtype\": \"string\",\n        \"num_unique_values\": 142,\n        \"samples\": [\n          \"tsunami\",\n          \"body%20bag\",\n          \"inundation\"\n        ],\n        \"semantic_type\": \"\",\n        \"description\": \"\"\n      }\n    },\n    {\n      \"column\": \"keywordPred0\",\n      \"properties\": {\n        \"dtype\": \"number\",\n        \"std\": 0.24863236913472472,\n        \"min\": 0.0,\n        \"max\": 1.0,\n        \"num_unique_values\": 126,\n        \"samples\": [\n          0.25,\n          0.9345794392523364,\n          0.803030303030303\n        ],\n        \"semantic_type\": \"\",\n        \"description\": \"\"\n      }\n    },\n    {\n      \"column\": \"keywordPred1\",\n      \"properties\": {\n        \"dtype\": \"number\",\n        \"std\": 0.24863236913472467,\n        \"min\": 0.0,\n        \"max\": 1.0,\n        \"num_unique_values\": 126,\n        \"samples\": [\n          0.75,\n          0.06542056074766354,\n          0.19696969696969696\n        ],\n        \"semantic_type\": \"\",\n        \"description\": \"\"\n      }\n    }\n  ]\n}"
            }
          },
          "metadata": {},
          "execution_count": 188
        }
      ],
      "source": [
        "uniq_keywords = train_df[\"keyword\"].unique()[1:]\n",
        "kword_resArr = []\n",
        "print(len(uniq_keywords))\n",
        "for kword in uniq_keywords:\n",
        "    kword_df = train_df.loc[train_df[\"keyword\"] == kword,: ]\n",
        "    total_kword = float(len(kword_df))\n",
        "    target0_n = float(len(kword_df.loc[kword_df[\"target\"]==0,:]))\n",
        "    target1_n = float(len(kword_df.loc[kword_df[\"target\"]==1,:]))\n",
        "    kword_prob_df = pd.DataFrame({'keyword':[kword],\n",
        "                                 \"keywordPred0\": [target0_n/total_kword],\n",
        "                                 \"keywordPred1\": [target1_n/total_kword]})\n",
        "    kword_resArr.append(kword_prob_df)\n",
        "predProbGivenKeyWord_df= pd.concat(kword_resArr)\n",
        "predProbGivenKeyWord_df.head()"
      ]
    },
    {
      "cell_type": "markdown",
      "metadata": {
        "id": "5QYN9P9Bu7ZD"
      },
      "source": [
        "# Create submission file"
      ]
    },
    {
      "cell_type": "markdown",
      "metadata": {
        "id": "Y6KTF7nuu7ZD"
      },
      "source": [
        "get probabilities given the tweet text"
      ]
    },
    {
      "cell_type": "code",
      "execution_count": 189,
      "metadata": {
        "colab": {
          "base_uri": "https://localhost:8080/",
          "height": 206
        },
        "id": "XSeTdgB_u7ZE",
        "outputId": "484f52af-8189-44cb-9d5c-20491851f08a"
      },
      "outputs": [
        {
          "output_type": "execute_result",
          "data": {
            "text/plain": [
              "   id keyword location                                               text  \\\n",
              "0   0     NaN      NaN                 Just happened a terrible car crash   \n",
              "1   2     NaN      NaN  Heard about #earthquake is different cities, s...   \n",
              "2   3     NaN      NaN  there is a forest fire at spot pond, geese are...   \n",
              "3   9     NaN      NaN           Apocalypse lighting. #Spokane #wildfires   \n",
              "4  11     NaN      NaN      Typhoon Soudelor kills 28 in China and Taiwan   \n",
              "\n",
              "   textprob0  textprob1  \n",
              "0  -0.223999  -1.605957  \n",
              "1 -20.051208   0.000000  \n",
              "2  -7.355286  -0.000610  \n",
              "3 -28.114563   0.000000  \n",
              "4 -39.491333   0.000000  "
            ],
            "text/html": [
              "\n",
              "  <div id=\"df-29c6b264-6337-41d0-811c-d27ce3e623ef\" class=\"colab-df-container\">\n",
              "    <div>\n",
              "<style scoped>\n",
              "    .dataframe tbody tr th:only-of-type {\n",
              "        vertical-align: middle;\n",
              "    }\n",
              "\n",
              "    .dataframe tbody tr th {\n",
              "        vertical-align: top;\n",
              "    }\n",
              "\n",
              "    .dataframe thead th {\n",
              "        text-align: right;\n",
              "    }\n",
              "</style>\n",
              "<table border=\"1\" class=\"dataframe\">\n",
              "  <thead>\n",
              "    <tr style=\"text-align: right;\">\n",
              "      <th></th>\n",
              "      <th>id</th>\n",
              "      <th>keyword</th>\n",
              "      <th>location</th>\n",
              "      <th>text</th>\n",
              "      <th>textprob0</th>\n",
              "      <th>textprob1</th>\n",
              "    </tr>\n",
              "  </thead>\n",
              "  <tbody>\n",
              "    <tr>\n",
              "      <th>0</th>\n",
              "      <td>0</td>\n",
              "      <td>NaN</td>\n",
              "      <td>NaN</td>\n",
              "      <td>Just happened a terrible car crash</td>\n",
              "      <td>-0.223999</td>\n",
              "      <td>-1.605957</td>\n",
              "    </tr>\n",
              "    <tr>\n",
              "      <th>1</th>\n",
              "      <td>2</td>\n",
              "      <td>NaN</td>\n",
              "      <td>NaN</td>\n",
              "      <td>Heard about #earthquake is different cities, s...</td>\n",
              "      <td>-20.051208</td>\n",
              "      <td>0.000000</td>\n",
              "    </tr>\n",
              "    <tr>\n",
              "      <th>2</th>\n",
              "      <td>3</td>\n",
              "      <td>NaN</td>\n",
              "      <td>NaN</td>\n",
              "      <td>there is a forest fire at spot pond, geese are...</td>\n",
              "      <td>-7.355286</td>\n",
              "      <td>-0.000610</td>\n",
              "    </tr>\n",
              "    <tr>\n",
              "      <th>3</th>\n",
              "      <td>9</td>\n",
              "      <td>NaN</td>\n",
              "      <td>NaN</td>\n",
              "      <td>Apocalypse lighting. #Spokane #wildfires</td>\n",
              "      <td>-28.114563</td>\n",
              "      <td>0.000000</td>\n",
              "    </tr>\n",
              "    <tr>\n",
              "      <th>4</th>\n",
              "      <td>11</td>\n",
              "      <td>NaN</td>\n",
              "      <td>NaN</td>\n",
              "      <td>Typhoon Soudelor kills 28 in China and Taiwan</td>\n",
              "      <td>-39.491333</td>\n",
              "      <td>0.000000</td>\n",
              "    </tr>\n",
              "  </tbody>\n",
              "</table>\n",
              "</div>\n",
              "    <div class=\"colab-df-buttons\">\n",
              "\n",
              "  <div class=\"colab-df-container\">\n",
              "    <button class=\"colab-df-convert\" onclick=\"convertToInteractive('df-29c6b264-6337-41d0-811c-d27ce3e623ef')\"\n",
              "            title=\"Convert this dataframe to an interactive table.\"\n",
              "            style=\"display:none;\">\n",
              "\n",
              "  <svg xmlns=\"http://www.w3.org/2000/svg\" height=\"24px\" viewBox=\"0 -960 960 960\">\n",
              "    <path d=\"M120-120v-720h720v720H120Zm60-500h600v-160H180v160Zm220 220h160v-160H400v160Zm0 220h160v-160H400v160ZM180-400h160v-160H180v160Zm440 0h160v-160H620v160ZM180-180h160v-160H180v160Zm440 0h160v-160H620v160Z\"/>\n",
              "  </svg>\n",
              "    </button>\n",
              "\n",
              "  <style>\n",
              "    .colab-df-container {\n",
              "      display:flex;\n",
              "      gap: 12px;\n",
              "    }\n",
              "\n",
              "    .colab-df-convert {\n",
              "      background-color: #E8F0FE;\n",
              "      border: none;\n",
              "      border-radius: 50%;\n",
              "      cursor: pointer;\n",
              "      display: none;\n",
              "      fill: #1967D2;\n",
              "      height: 32px;\n",
              "      padding: 0 0 0 0;\n",
              "      width: 32px;\n",
              "    }\n",
              "\n",
              "    .colab-df-convert:hover {\n",
              "      background-color: #E2EBFA;\n",
              "      box-shadow: 0px 1px 2px rgba(60, 64, 67, 0.3), 0px 1px 3px 1px rgba(60, 64, 67, 0.15);\n",
              "      fill: #174EA6;\n",
              "    }\n",
              "\n",
              "    .colab-df-buttons div {\n",
              "      margin-bottom: 4px;\n",
              "    }\n",
              "\n",
              "    [theme=dark] .colab-df-convert {\n",
              "      background-color: #3B4455;\n",
              "      fill: #D2E3FC;\n",
              "    }\n",
              "\n",
              "    [theme=dark] .colab-df-convert:hover {\n",
              "      background-color: #434B5C;\n",
              "      box-shadow: 0px 1px 3px 1px rgba(0, 0, 0, 0.15);\n",
              "      filter: drop-shadow(0px 1px 2px rgba(0, 0, 0, 0.3));\n",
              "      fill: #FFFFFF;\n",
              "    }\n",
              "  </style>\n",
              "\n",
              "    <script>\n",
              "      const buttonEl =\n",
              "        document.querySelector('#df-29c6b264-6337-41d0-811c-d27ce3e623ef button.colab-df-convert');\n",
              "      buttonEl.style.display =\n",
              "        google.colab.kernel.accessAllowed ? 'block' : 'none';\n",
              "\n",
              "      async function convertToInteractive(key) {\n",
              "        const element = document.querySelector('#df-29c6b264-6337-41d0-811c-d27ce3e623ef');\n",
              "        const dataTable =\n",
              "          await google.colab.kernel.invokeFunction('convertToInteractive',\n",
              "                                                    [key], {});\n",
              "        if (!dataTable) return;\n",
              "\n",
              "        const docLinkHtml = 'Like what you see? Visit the ' +\n",
              "          '<a target=\"_blank\" href=https://colab.research.google.com/notebooks/data_table.ipynb>data table notebook</a>'\n",
              "          + ' to learn more about interactive tables.';\n",
              "        element.innerHTML = '';\n",
              "        dataTable['output_type'] = 'display_data';\n",
              "        await google.colab.output.renderOutput(dataTable, element);\n",
              "        const docLink = document.createElement('div');\n",
              "        docLink.innerHTML = docLinkHtml;\n",
              "        element.appendChild(docLink);\n",
              "      }\n",
              "    </script>\n",
              "  </div>\n",
              "\n",
              "\n",
              "<div id=\"df-8ac6d5cc-5469-4f03-acce-b5036b17005a\">\n",
              "  <button class=\"colab-df-quickchart\" onclick=\"quickchart('df-8ac6d5cc-5469-4f03-acce-b5036b17005a')\"\n",
              "            title=\"Suggest charts\"\n",
              "            style=\"display:none;\">\n",
              "\n",
              "<svg xmlns=\"http://www.w3.org/2000/svg\" height=\"24px\"viewBox=\"0 0 24 24\"\n",
              "     width=\"24px\">\n",
              "    <g>\n",
              "        <path d=\"M19 3H5c-1.1 0-2 .9-2 2v14c0 1.1.9 2 2 2h14c1.1 0 2-.9 2-2V5c0-1.1-.9-2-2-2zM9 17H7v-7h2v7zm4 0h-2V7h2v10zm4 0h-2v-4h2v4z\"/>\n",
              "    </g>\n",
              "</svg>\n",
              "  </button>\n",
              "\n",
              "<style>\n",
              "  .colab-df-quickchart {\n",
              "      --bg-color: #E8F0FE;\n",
              "      --fill-color: #1967D2;\n",
              "      --hover-bg-color: #E2EBFA;\n",
              "      --hover-fill-color: #174EA6;\n",
              "      --disabled-fill-color: #AAA;\n",
              "      --disabled-bg-color: #DDD;\n",
              "  }\n",
              "\n",
              "  [theme=dark] .colab-df-quickchart {\n",
              "      --bg-color: #3B4455;\n",
              "      --fill-color: #D2E3FC;\n",
              "      --hover-bg-color: #434B5C;\n",
              "      --hover-fill-color: #FFFFFF;\n",
              "      --disabled-bg-color: #3B4455;\n",
              "      --disabled-fill-color: #666;\n",
              "  }\n",
              "\n",
              "  .colab-df-quickchart {\n",
              "    background-color: var(--bg-color);\n",
              "    border: none;\n",
              "    border-radius: 50%;\n",
              "    cursor: pointer;\n",
              "    display: none;\n",
              "    fill: var(--fill-color);\n",
              "    height: 32px;\n",
              "    padding: 0;\n",
              "    width: 32px;\n",
              "  }\n",
              "\n",
              "  .colab-df-quickchart:hover {\n",
              "    background-color: var(--hover-bg-color);\n",
              "    box-shadow: 0 1px 2px rgba(60, 64, 67, 0.3), 0 1px 3px 1px rgba(60, 64, 67, 0.15);\n",
              "    fill: var(--button-hover-fill-color);\n",
              "  }\n",
              "\n",
              "  .colab-df-quickchart-complete:disabled,\n",
              "  .colab-df-quickchart-complete:disabled:hover {\n",
              "    background-color: var(--disabled-bg-color);\n",
              "    fill: var(--disabled-fill-color);\n",
              "    box-shadow: none;\n",
              "  }\n",
              "\n",
              "  .colab-df-spinner {\n",
              "    border: 2px solid var(--fill-color);\n",
              "    border-color: transparent;\n",
              "    border-bottom-color: var(--fill-color);\n",
              "    animation:\n",
              "      spin 1s steps(1) infinite;\n",
              "  }\n",
              "\n",
              "  @keyframes spin {\n",
              "    0% {\n",
              "      border-color: transparent;\n",
              "      border-bottom-color: var(--fill-color);\n",
              "      border-left-color: var(--fill-color);\n",
              "    }\n",
              "    20% {\n",
              "      border-color: transparent;\n",
              "      border-left-color: var(--fill-color);\n",
              "      border-top-color: var(--fill-color);\n",
              "    }\n",
              "    30% {\n",
              "      border-color: transparent;\n",
              "      border-left-color: var(--fill-color);\n",
              "      border-top-color: var(--fill-color);\n",
              "      border-right-color: var(--fill-color);\n",
              "    }\n",
              "    40% {\n",
              "      border-color: transparent;\n",
              "      border-right-color: var(--fill-color);\n",
              "      border-top-color: var(--fill-color);\n",
              "    }\n",
              "    60% {\n",
              "      border-color: transparent;\n",
              "      border-right-color: var(--fill-color);\n",
              "    }\n",
              "    80% {\n",
              "      border-color: transparent;\n",
              "      border-right-color: var(--fill-color);\n",
              "      border-bottom-color: var(--fill-color);\n",
              "    }\n",
              "    90% {\n",
              "      border-color: transparent;\n",
              "      border-bottom-color: var(--fill-color);\n",
              "    }\n",
              "  }\n",
              "</style>\n",
              "\n",
              "  <script>\n",
              "    async function quickchart(key) {\n",
              "      const quickchartButtonEl =\n",
              "        document.querySelector('#' + key + ' button');\n",
              "      quickchartButtonEl.disabled = true;  // To prevent multiple clicks.\n",
              "      quickchartButtonEl.classList.add('colab-df-spinner');\n",
              "      try {\n",
              "        const charts = await google.colab.kernel.invokeFunction(\n",
              "            'suggestCharts', [key], {});\n",
              "      } catch (error) {\n",
              "        console.error('Error during call to suggestCharts:', error);\n",
              "      }\n",
              "      quickchartButtonEl.classList.remove('colab-df-spinner');\n",
              "      quickchartButtonEl.classList.add('colab-df-quickchart-complete');\n",
              "    }\n",
              "    (() => {\n",
              "      let quickchartButtonEl =\n",
              "        document.querySelector('#df-8ac6d5cc-5469-4f03-acce-b5036b17005a button');\n",
              "      quickchartButtonEl.style.display =\n",
              "        google.colab.kernel.accessAllowed ? 'block' : 'none';\n",
              "    })();\n",
              "  </script>\n",
              "</div>\n",
              "\n",
              "    </div>\n",
              "  </div>\n"
            ],
            "application/vnd.google.colaboratory.intrinsic+json": {
              "type": "dataframe",
              "variable_name": "test_df",
              "summary": "{\n  \"name\": \"test_df\",\n  \"rows\": 3263,\n  \"fields\": [\n    {\n      \"column\": \"id\",\n      \"properties\": {\n        \"dtype\": \"number\",\n        \"std\": 3146,\n        \"min\": 0,\n        \"max\": 10875,\n        \"num_unique_values\": 3263,\n        \"samples\": [\n          8051,\n          425,\n          1330\n        ],\n        \"semantic_type\": \"\",\n        \"description\": \"\"\n      }\n    },\n    {\n      \"column\": \"keyword\",\n      \"properties\": {\n        \"dtype\": \"category\",\n        \"num_unique_values\": 142,\n        \"samples\": [\n          \"tsunami\",\n          \"body%20bag\",\n          \"inundation\"\n        ],\n        \"semantic_type\": \"\",\n        \"description\": \"\"\n      }\n    },\n    {\n      \"column\": \"location\",\n      \"properties\": {\n        \"dtype\": \"category\",\n        \"num_unique_values\": 1602,\n        \"samples\": [\n          \"UAE\",\n          \"Tokio / Tokyo\",\n          \"Texas\"\n        ],\n        \"semantic_type\": \"\",\n        \"description\": \"\"\n      }\n    },\n    {\n      \"column\": \"text\",\n      \"properties\": {\n        \"dtype\": \"string\",\n        \"num_unique_values\": 3243,\n        \"samples\": [\n          \"Latest: USA: Huge sinkhole swallows up Brooklyn intersection http://t.co/vspKHg3nZy\",\n          \"I liked a @YouTube video http://t.co/a5YTAw9Vih S.O.S. Rona Guide - The Red Whirlwind\",\n          \"HitchBot travels Europe and greeted with open arms. Gets destroyed after two weeks in america. There's a lesson to be learned here.\"\n        ],\n        \"semantic_type\": \"\",\n        \"description\": \"\"\n      }\n    },\n    {\n      \"column\": \"textprob0\",\n      \"properties\": {\n        \"dtype\": \"float32\",\n        \"num_unique_values\": 1673,\n        \"samples\": [\n          -2.21722412109375,\n          -26.1669921875,\n          -36.17706298828125\n        ],\n        \"semantic_type\": \"\",\n        \"description\": \"\"\n      }\n    },\n    {\n      \"column\": \"textprob1\",\n      \"properties\": {\n        \"dtype\": \"float32\",\n        \"num_unique_values\": 2097,\n        \"samples\": [\n          -4.29608154296875,\n          -14.25927734375,\n          -37.95013427734375\n        ],\n        \"semantic_type\": \"\",\n        \"description\": \"\"\n      }\n    }\n  ]\n}"
            }
          },
          "metadata": {},
          "execution_count": 189
        }
      ],
      "source": [
        "test_df[\"textprob0\"]=predProbGivenText_df.loc[:,0].copy()\n",
        "test_df[\"textprob1\"]=predProbGivenText_df.loc[:,1].copy()\n",
        "test_df.head()"
      ]
    },
    {
      "cell_type": "markdown",
      "metadata": {
        "id": "ewzD_od-u7ZE"
      },
      "source": [
        "get the probabilities given the key words. Note that if there is no key word than the probability is 50% for both targets."
      ]
    },
    {
      "cell_type": "code",
      "execution_count": 190,
      "metadata": {
        "id": "MbDE0CCvu7ZE"
      },
      "outputs": [],
      "source": [
        "test_df = test_df.merge(predProbGivenKeyWord_df, how='left', on=\"keyword\")"
      ]
    },
    {
      "cell_type": "code",
      "execution_count": 191,
      "metadata": {
        "id": "ezOlYMGGu7ZF"
      },
      "outputs": [],
      "source": [
        "test_df[\"keywordPred0\"]=test_df[\"keywordPred0\"].fillna(0.5)\n",
        "test_df[\"keywordPred1\"]=test_df[\"keywordPred1\"].fillna(0.5)"
      ]
    },
    {
      "cell_type": "markdown",
      "metadata": {
        "id": "mteSGRILu7ZF"
      },
      "source": [
        "Now let's calculate the probability given the text and the keyword. Then let's choose our prediction based on which target has the higher probability."
      ]
    },
    {
      "cell_type": "code",
      "execution_count": 192,
      "metadata": {
        "id": "T582aXqQu7ZF"
      },
      "outputs": [],
      "source": [
        "test_df[\"pred0\"]=test_df[\"textprob0\"]*test_df[\"keywordPred0\"]\n",
        "test_df[\"pred1\"]=test_df[\"textprob1\"]*test_df[\"keywordPred1\"]\n",
        "test_df[\"target\"]=test_df[\"pred1\"]>test_df[\"pred0\"]\n",
        "test_df[\"target\"] = test_df[\"target\"].astype(int)"
      ]
    },
    {
      "cell_type": "markdown",
      "metadata": {
        "id": "nQLs1SOYu7ZF"
      },
      "source": [
        "Create submission file"
      ]
    },
    {
      "cell_type": "code",
      "execution_count": 193,
      "metadata": {
        "colab": {
          "base_uri": "https://localhost:8080/",
          "height": 206
        },
        "id": "7AML6dqVu7ZG",
        "outputId": "33a82ac4-6794-4182-9bea-0318c02f70b2"
      },
      "outputs": [
        {
          "output_type": "execute_result",
          "data": {
            "text/plain": [
              "   id  target\n",
              "0   0       0\n",
              "1   2       1\n",
              "2   3       1\n",
              "3   9       1\n",
              "4  11       1"
            ],
            "text/html": [
              "\n",
              "  <div id=\"df-52b18222-7654-4d0f-a367-0440e5320dab\" class=\"colab-df-container\">\n",
              "    <div>\n",
              "<style scoped>\n",
              "    .dataframe tbody tr th:only-of-type {\n",
              "        vertical-align: middle;\n",
              "    }\n",
              "\n",
              "    .dataframe tbody tr th {\n",
              "        vertical-align: top;\n",
              "    }\n",
              "\n",
              "    .dataframe thead th {\n",
              "        text-align: right;\n",
              "    }\n",
              "</style>\n",
              "<table border=\"1\" class=\"dataframe\">\n",
              "  <thead>\n",
              "    <tr style=\"text-align: right;\">\n",
              "      <th></th>\n",
              "      <th>id</th>\n",
              "      <th>target</th>\n",
              "    </tr>\n",
              "  </thead>\n",
              "  <tbody>\n",
              "    <tr>\n",
              "      <th>0</th>\n",
              "      <td>0</td>\n",
              "      <td>0</td>\n",
              "    </tr>\n",
              "    <tr>\n",
              "      <th>1</th>\n",
              "      <td>2</td>\n",
              "      <td>1</td>\n",
              "    </tr>\n",
              "    <tr>\n",
              "      <th>2</th>\n",
              "      <td>3</td>\n",
              "      <td>1</td>\n",
              "    </tr>\n",
              "    <tr>\n",
              "      <th>3</th>\n",
              "      <td>9</td>\n",
              "      <td>1</td>\n",
              "    </tr>\n",
              "    <tr>\n",
              "      <th>4</th>\n",
              "      <td>11</td>\n",
              "      <td>1</td>\n",
              "    </tr>\n",
              "  </tbody>\n",
              "</table>\n",
              "</div>\n",
              "    <div class=\"colab-df-buttons\">\n",
              "\n",
              "  <div class=\"colab-df-container\">\n",
              "    <button class=\"colab-df-convert\" onclick=\"convertToInteractive('df-52b18222-7654-4d0f-a367-0440e5320dab')\"\n",
              "            title=\"Convert this dataframe to an interactive table.\"\n",
              "            style=\"display:none;\">\n",
              "\n",
              "  <svg xmlns=\"http://www.w3.org/2000/svg\" height=\"24px\" viewBox=\"0 -960 960 960\">\n",
              "    <path d=\"M120-120v-720h720v720H120Zm60-500h600v-160H180v160Zm220 220h160v-160H400v160Zm0 220h160v-160H400v160ZM180-400h160v-160H180v160Zm440 0h160v-160H620v160ZM180-180h160v-160H180v160Zm440 0h160v-160H620v160Z\"/>\n",
              "  </svg>\n",
              "    </button>\n",
              "\n",
              "  <style>\n",
              "    .colab-df-container {\n",
              "      display:flex;\n",
              "      gap: 12px;\n",
              "    }\n",
              "\n",
              "    .colab-df-convert {\n",
              "      background-color: #E8F0FE;\n",
              "      border: none;\n",
              "      border-radius: 50%;\n",
              "      cursor: pointer;\n",
              "      display: none;\n",
              "      fill: #1967D2;\n",
              "      height: 32px;\n",
              "      padding: 0 0 0 0;\n",
              "      width: 32px;\n",
              "    }\n",
              "\n",
              "    .colab-df-convert:hover {\n",
              "      background-color: #E2EBFA;\n",
              "      box-shadow: 0px 1px 2px rgba(60, 64, 67, 0.3), 0px 1px 3px 1px rgba(60, 64, 67, 0.15);\n",
              "      fill: #174EA6;\n",
              "    }\n",
              "\n",
              "    .colab-df-buttons div {\n",
              "      margin-bottom: 4px;\n",
              "    }\n",
              "\n",
              "    [theme=dark] .colab-df-convert {\n",
              "      background-color: #3B4455;\n",
              "      fill: #D2E3FC;\n",
              "    }\n",
              "\n",
              "    [theme=dark] .colab-df-convert:hover {\n",
              "      background-color: #434B5C;\n",
              "      box-shadow: 0px 1px 3px 1px rgba(0, 0, 0, 0.15);\n",
              "      filter: drop-shadow(0px 1px 2px rgba(0, 0, 0, 0.3));\n",
              "      fill: #FFFFFF;\n",
              "    }\n",
              "  </style>\n",
              "\n",
              "    <script>\n",
              "      const buttonEl =\n",
              "        document.querySelector('#df-52b18222-7654-4d0f-a367-0440e5320dab button.colab-df-convert');\n",
              "      buttonEl.style.display =\n",
              "        google.colab.kernel.accessAllowed ? 'block' : 'none';\n",
              "\n",
              "      async function convertToInteractive(key) {\n",
              "        const element = document.querySelector('#df-52b18222-7654-4d0f-a367-0440e5320dab');\n",
              "        const dataTable =\n",
              "          await google.colab.kernel.invokeFunction('convertToInteractive',\n",
              "                                                    [key], {});\n",
              "        if (!dataTable) return;\n",
              "\n",
              "        const docLinkHtml = 'Like what you see? Visit the ' +\n",
              "          '<a target=\"_blank\" href=https://colab.research.google.com/notebooks/data_table.ipynb>data table notebook</a>'\n",
              "          + ' to learn more about interactive tables.';\n",
              "        element.innerHTML = '';\n",
              "        dataTable['output_type'] = 'display_data';\n",
              "        await google.colab.output.renderOutput(dataTable, element);\n",
              "        const docLink = document.createElement('div');\n",
              "        docLink.innerHTML = docLinkHtml;\n",
              "        element.appendChild(docLink);\n",
              "      }\n",
              "    </script>\n",
              "  </div>\n",
              "\n",
              "\n",
              "<div id=\"df-57312f38-1acf-4c11-bda1-a94af5162c4e\">\n",
              "  <button class=\"colab-df-quickchart\" onclick=\"quickchart('df-57312f38-1acf-4c11-bda1-a94af5162c4e')\"\n",
              "            title=\"Suggest charts\"\n",
              "            style=\"display:none;\">\n",
              "\n",
              "<svg xmlns=\"http://www.w3.org/2000/svg\" height=\"24px\"viewBox=\"0 0 24 24\"\n",
              "     width=\"24px\">\n",
              "    <g>\n",
              "        <path d=\"M19 3H5c-1.1 0-2 .9-2 2v14c0 1.1.9 2 2 2h14c1.1 0 2-.9 2-2V5c0-1.1-.9-2-2-2zM9 17H7v-7h2v7zm4 0h-2V7h2v10zm4 0h-2v-4h2v4z\"/>\n",
              "    </g>\n",
              "</svg>\n",
              "  </button>\n",
              "\n",
              "<style>\n",
              "  .colab-df-quickchart {\n",
              "      --bg-color: #E8F0FE;\n",
              "      --fill-color: #1967D2;\n",
              "      --hover-bg-color: #E2EBFA;\n",
              "      --hover-fill-color: #174EA6;\n",
              "      --disabled-fill-color: #AAA;\n",
              "      --disabled-bg-color: #DDD;\n",
              "  }\n",
              "\n",
              "  [theme=dark] .colab-df-quickchart {\n",
              "      --bg-color: #3B4455;\n",
              "      --fill-color: #D2E3FC;\n",
              "      --hover-bg-color: #434B5C;\n",
              "      --hover-fill-color: #FFFFFF;\n",
              "      --disabled-bg-color: #3B4455;\n",
              "      --disabled-fill-color: #666;\n",
              "  }\n",
              "\n",
              "  .colab-df-quickchart {\n",
              "    background-color: var(--bg-color);\n",
              "    border: none;\n",
              "    border-radius: 50%;\n",
              "    cursor: pointer;\n",
              "    display: none;\n",
              "    fill: var(--fill-color);\n",
              "    height: 32px;\n",
              "    padding: 0;\n",
              "    width: 32px;\n",
              "  }\n",
              "\n",
              "  .colab-df-quickchart:hover {\n",
              "    background-color: var(--hover-bg-color);\n",
              "    box-shadow: 0 1px 2px rgba(60, 64, 67, 0.3), 0 1px 3px 1px rgba(60, 64, 67, 0.15);\n",
              "    fill: var(--button-hover-fill-color);\n",
              "  }\n",
              "\n",
              "  .colab-df-quickchart-complete:disabled,\n",
              "  .colab-df-quickchart-complete:disabled:hover {\n",
              "    background-color: var(--disabled-bg-color);\n",
              "    fill: var(--disabled-fill-color);\n",
              "    box-shadow: none;\n",
              "  }\n",
              "\n",
              "  .colab-df-spinner {\n",
              "    border: 2px solid var(--fill-color);\n",
              "    border-color: transparent;\n",
              "    border-bottom-color: var(--fill-color);\n",
              "    animation:\n",
              "      spin 1s steps(1) infinite;\n",
              "  }\n",
              "\n",
              "  @keyframes spin {\n",
              "    0% {\n",
              "      border-color: transparent;\n",
              "      border-bottom-color: var(--fill-color);\n",
              "      border-left-color: var(--fill-color);\n",
              "    }\n",
              "    20% {\n",
              "      border-color: transparent;\n",
              "      border-left-color: var(--fill-color);\n",
              "      border-top-color: var(--fill-color);\n",
              "    }\n",
              "    30% {\n",
              "      border-color: transparent;\n",
              "      border-left-color: var(--fill-color);\n",
              "      border-top-color: var(--fill-color);\n",
              "      border-right-color: var(--fill-color);\n",
              "    }\n",
              "    40% {\n",
              "      border-color: transparent;\n",
              "      border-right-color: var(--fill-color);\n",
              "      border-top-color: var(--fill-color);\n",
              "    }\n",
              "    60% {\n",
              "      border-color: transparent;\n",
              "      border-right-color: var(--fill-color);\n",
              "    }\n",
              "    80% {\n",
              "      border-color: transparent;\n",
              "      border-right-color: var(--fill-color);\n",
              "      border-bottom-color: var(--fill-color);\n",
              "    }\n",
              "    90% {\n",
              "      border-color: transparent;\n",
              "      border-bottom-color: var(--fill-color);\n",
              "    }\n",
              "  }\n",
              "</style>\n",
              "\n",
              "  <script>\n",
              "    async function quickchart(key) {\n",
              "      const quickchartButtonEl =\n",
              "        document.querySelector('#' + key + ' button');\n",
              "      quickchartButtonEl.disabled = true;  // To prevent multiple clicks.\n",
              "      quickchartButtonEl.classList.add('colab-df-spinner');\n",
              "      try {\n",
              "        const charts = await google.colab.kernel.invokeFunction(\n",
              "            'suggestCharts', [key], {});\n",
              "      } catch (error) {\n",
              "        console.error('Error during call to suggestCharts:', error);\n",
              "      }\n",
              "      quickchartButtonEl.classList.remove('colab-df-spinner');\n",
              "      quickchartButtonEl.classList.add('colab-df-quickchart-complete');\n",
              "    }\n",
              "    (() => {\n",
              "      let quickchartButtonEl =\n",
              "        document.querySelector('#df-57312f38-1acf-4c11-bda1-a94af5162c4e button');\n",
              "      quickchartButtonEl.style.display =\n",
              "        google.colab.kernel.accessAllowed ? 'block' : 'none';\n",
              "    })();\n",
              "  </script>\n",
              "</div>\n",
              "\n",
              "    </div>\n",
              "  </div>\n"
            ],
            "application/vnd.google.colaboratory.intrinsic+json": {
              "type": "dataframe",
              "variable_name": "submission_df",
              "summary": "{\n  \"name\": \"submission_df\",\n  \"rows\": 3263,\n  \"fields\": [\n    {\n      \"column\": \"id\",\n      \"properties\": {\n        \"dtype\": \"number\",\n        \"std\": 3146,\n        \"min\": 0,\n        \"max\": 10875,\n        \"num_unique_values\": 3263,\n        \"samples\": [\n          8051,\n          425,\n          1330\n        ],\n        \"semantic_type\": \"\",\n        \"description\": \"\"\n      }\n    },\n    {\n      \"column\": \"target\",\n      \"properties\": {\n        \"dtype\": \"number\",\n        \"std\": 0,\n        \"min\": 0,\n        \"max\": 1,\n        \"num_unique_values\": 2,\n        \"samples\": [\n          1,\n          0\n        ],\n        \"semantic_type\": \"\",\n        \"description\": \"\"\n      }\n    }\n  ]\n}"
            }
          },
          "metadata": {},
          "execution_count": 193
        }
      ],
      "source": [
        "submission_df = test_df.loc[:,[\"id\",\"target\"]]\n",
        "submission_df.head()"
      ]
    },
    {
      "cell_type": "code",
      "execution_count": 194,
      "metadata": {
        "id": "emIzUp5Hu7ZG"
      },
      "outputs": [],
      "source": [
        "submission_df.to_csv(\"submission.csv\",index=False)"
      ]
    },
    {
      "cell_type": "markdown",
      "metadata": {
        "id": "l7wVxxDAu7ZG"
      },
      "source": [
        "Note that in the code above I only look at the tweets themselves and the keywords, but many of the tweets do not have keywords. We could maybe create a model to infer keywords from tweets that do not have keywords. We also did not include location in the model."
      ]
    }
  ],
  "metadata": {
    "kernelspec": {
      "display_name": "Python 3",
      "language": "python",
      "name": "python3"
    },
    "language_info": {
      "codemirror_mode": {
        "name": "ipython",
        "version": 3
      },
      "file_extension": ".py",
      "mimetype": "text/x-python",
      "name": "python",
      "nbconvert_exporter": "python",
      "pygments_lexer": "ipython3",
      "version": "3.6.6"
    },
    "colab": {
      "provenance": []
    }
  },
  "nbformat": 4,
  "nbformat_minor": 0
}