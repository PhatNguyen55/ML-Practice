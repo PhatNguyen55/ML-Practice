{
 "cells": [
  {
   "cell_type": "markdown",
   "id": "dbb0ea71",
   "metadata": {
    "id": "dbb0ea71",
    "papermill": {
     "duration": 0.002869,
     "end_time": "2024-03-08T17:46:40.626435",
     "exception": false,
     "start_time": "2024-03-08T17:46:40.623566",
     "status": "completed"
    },
    "tags": []
   },
   "source": [
    "**Steps to Implement SVM Classification Using TensorFlow and Keras:**\n",
    "\n",
    "1. Load the Data: Begin by loading your dataset containing features and corresponding labels. Ensure that the data is formatted appropriately for training the SVM model.\n",
    "\n",
    "2. Preprocess the Data: Preprocess the data as necessary, which may include tasks such as scaling the features, handling missing values, and encoding categorical variables.\n",
    "\n",
    "3. Split the Data: Split the dataset into training and testing sets to assess the performance of the SVM model. Typically, you would use a larger portion of the data for training and reserve a smaller portion for testing.\n",
    "\n",
    "4. Build the SVM Model: Create an SVM model using TensorFlow and Keras. Define the SVM model architecture, including the choice of kernel and other hyperparameters. TensorFlow and Keras provide APIs for building SVM models with various kernels.\n",
    "\n",
    "5. Compile the Model: Compile the SVM model by specifying the loss function, optimizer, and evaluation metrics. For classification tasks, commonly used loss functions include binary cross-entropy and hinge loss.\n",
    "\n",
    "6. Train the Model: Train the SVM model on the training data using the `fit()` function. During training, the model learns to distinguish between different classes based on the input features.\n",
    "\n",
    "7. Evaluate the Model: Evaluate the performance of the trained SVM model on the testing data. Use metrics such as accuracy, precision, recall, and F1-score to assess how well the model generalizes to unseen data.\n",
    "\n",
    "8. Visualize the Results: Visualize the model's performance using plots or charts. You can plot the training/validation loss and accuracy over epochs to monitor the training progress and identify any overfitting or underfitting issues.\n",
    "\n",
    "9. Fine-tune the Model (Optional): Experiment with different hyperparameters, kernels, and regularization techniques to improve the SVM model's performance. Fine-tuning involves adjusting the model's configuration to achieve better accuracy or generalization.\n",
    "\n",
    "10. Deploy the Model (Optional): Once satisfied with the SVM model's performance, you can deploy it to production for making predictions on new data. You may deploy the model as a web service, integrate it into a mobile app, or use it in other applications.\n",
    "\n",
    "By following these steps, you'll be able to implement an SVM classification model using TensorFlow and Keras and apply it to your own datasets for various classification tasks."
   ]
  },
  {
   "cell_type": "code",
   "execution_count": 3,
   "id": "d1a68773",
   "metadata": {
    "_cell_guid": "b1076dfc-b9ad-4769-8c92-a6c4dae69d19",
    "_uuid": "8f2839f25d086af736a60e9eeb907d3b93b6e0e5",
    "execution": {
     "iopub.execute_input": "2024-03-08T17:46:40.635805Z",
     "iopub.status.busy": "2024-03-08T17:46:40.634475Z",
     "iopub.status.idle": "2024-03-08T17:46:41.505627Z",
     "shell.execute_reply": "2024-03-08T17:46:41.504761Z"
    },
    "id": "d1a68773",
    "papermill": {
     "duration": 0.879266,
     "end_time": "2024-03-08T17:46:41.508759",
     "exception": false,
     "start_time": "2024-03-08T17:46:40.629493",
     "status": "completed"
    },
    "tags": []
   },
   "outputs": [],
   "source": [
    "# This Python 3 environment comes with many helpful analytics libraries installed\n",
    "# It is defined by the kaggle/python Docker image: https://github.com/kaggle/docker-python\n",
    "# For example, here's several helpful packages to load\n",
    "\n",
    "import numpy as np # linear algebra\n",
    "import pandas as pd # data processing, CSV file I/O (e.g. pd.read_csv)\n",
    "\n",
    "# Input data files are available in the read-only \"../input/\" directory\n",
    "# For example, running this (by clicking run or pressing Shift+Enter) will list all files under the input directory\n",
    "\n",
    "import os\n",
    "for dirname, _, filenames in os.walk('/kaggle/input'):\n",
    "    for filename in filenames:\n",
    "        print(os.path.join(dirname, filename))\n",
    "\n",
    "# You can write up to 20GB to the current directory (/kaggle/working/) that gets preserved as output when you create a version using \"Save & Run All\"\n",
    "# You can also write temporary files to /kaggle/temp/, but they won't be saved outside of the current session"
   ]
  },
  {
   "cell_type": "code",
   "execution_count": 4,
   "id": "f8c439f1",
   "metadata": {
    "colab": {
     "base_uri": "https://localhost:8080/"
    },
    "execution": {
     "iopub.execute_input": "2024-03-08T17:46:41.519565Z",
     "iopub.status.busy": "2024-03-08T17:46:41.518827Z",
     "iopub.status.idle": "2024-03-08T17:46:42.907803Z",
     "shell.execute_reply": "2024-03-08T17:46:42.906590Z"
    },
    "id": "f8c439f1",
    "outputId": "d5bb9408-0b73-4d92-c053-1db84fe0a774",
    "papermill": {
     "duration": 1.396784,
     "end_time": "2024-03-08T17:46:42.910395",
     "exception": false,
     "start_time": "2024-03-08T17:46:41.513611",
     "status": "completed"
    },
    "tags": []
   },
   "outputs": [
    {
     "name": "stdout",
     "output_type": "stream",
     "text": [
      "Error: Number of samples in categories file and instructions file do not match.\n",
      "Number of samples in categories file: 13\n",
      "Number of samples in instructions file: 5\n"
     ]
    }
   ],
   "source": [
    "import numpy as np\n",
    "from sklearn.model_selection import train_test_split\n",
    "from sklearn.svm import SVC\n",
    "from sklearn.metrics import accuracy_score\n",
    "import matplotlib.pyplot as plt\n",
    "\n",
    "# Load data from files\n",
    "categories_file_path = \"/content/submission_categories.txt\"\n",
    "instructions_file_path = \"/content/submission_instructions.txt\"\n",
    "\n",
    "# Load text data\n",
    "with open(categories_file_path, \"r\", encoding=\"utf-8\") as categories_file:\n",
    "    categories_data = categories_file.readlines()\n",
    "\n",
    "with open(instructions_file_path, \"r\", encoding=\"utf-8\") as instructions_file:\n",
    "    instructions_data = instructions_file.readlines()\n",
    "\n",
    "# Check the number of samples in each file\n",
    "num_samples_categories = len(categories_data)\n",
    "num_samples_instructions = len(instructions_data)\n",
    "\n",
    "# Ensure the number of samples matches\n",
    "if num_samples_categories != num_samples_instructions:\n",
    "    print(\"Error: Number of samples in categories file and instructions file do not match.\")\n",
    "    print(\"Number of samples in categories file:\", num_samples_categories)\n",
    "    print(\"Number of samples in instructions file:\", num_samples_instructions)\n",
    "else:\n",
    "    print(\"Number of samples in categories file:\", num_samples_categories)\n",
    "    print(\"Number of samples in instructions file:\", num_samples_instructions)\n",
    "    # Convert data to numpy arrays\n",
    "    X = np.array(categories_data)\n",
    "    y = np.array(instructions_data)\n",
    "\n",
    "    # Varying sample sizes\n",
    "    sample_sizes = [100, 200, 300, 400, 500]\n",
    "\n",
    "    # Initialize lists to store accuracies\n",
    "    accuracies = []\n",
    "\n",
    "    # Train SVM model for each sample size\n",
    "    for size in sample_sizes:\n",
    "        X_train, X_val, y_train, y_val = train_test_split(X, y, test_size=1 - size / len(X), random_state=42)\n",
    "        svm_model = SVC(kernel='linear')\n",
    "        svm_model.fit(X_train, y_train)\n",
    "        y_pred = svm_model.predict(X_val)\n",
    "        accuracy = accuracy_score(y_val, y_pred)\n",
    "        accuracies.append(accuracy)\n",
    "\n",
    "    # Plot accuracy vs sample size\n",
    "    plt.plot(sample_sizes, accuracies, marker='o')\n",
    "    plt.title('Accuracy vs Sample Size')\n",
    "    plt.xlabel('Sample Size')\n",
    "    plt.ylabel('Accuracy')\n",
    "    plt.show()\n"
   ]
  },
  {
   "cell_type": "code",
   "execution_count": 5,
   "id": "224af82e",
   "metadata": {
    "colab": {
     "base_uri": "https://localhost:8080/"
    },
    "execution": {
     "iopub.execute_input": "2024-03-08T17:46:42.920559Z",
     "iopub.status.busy": "2024-03-08T17:46:42.919300Z",
     "iopub.status.idle": "2024-03-08T17:46:56.513913Z",
     "shell.execute_reply": "2024-03-08T17:46:56.511891Z"
    },
    "id": "224af82e",
    "outputId": "ddb70106-bf2f-4a2a-c781-99959bd2eac9",
    "papermill": {
     "duration": 13.603715,
     "end_time": "2024-03-08T17:46:56.518050",
     "exception": false,
     "start_time": "2024-03-08T17:46:42.914335",
     "status": "completed"
    },
    "tags": []
   },
   "outputs": [
    {
     "name": "stdout",
     "output_type": "stream",
     "text": [
      "Error: Number of samples in categories file and instructions file do not match.\n",
      "Number of samples in categories file: 13\n",
      "Number of samples in instructions file: 5\n"
     ]
    }
   ],
   "source": [
    "import numpy as np\n",
    "from sklearn.model_selection import train_test_split\n",
    "from sklearn.preprocessing import LabelEncoder\n",
    "from sklearn.metrics import accuracy_score\n",
    "import tensorflow as tf\n",
    "from tensorflow.keras.models import Sequential\n",
    "from tensorflow.keras.layers import Dense, Embedding, Flatten\n",
    "\n",
    "# Load data from files\n",
    "categories_file_path = \"/content/submission_categories.txt\"\n",
    "instructions_file_path = \"/content/submission_instructions.txt\"\n",
    "\n",
    "# Load text data\n",
    "with open(categories_file_path, \"r\", encoding=\"utf-8\") as categories_file:\n",
    "    categories_data = categories_file.readlines()\n",
    "\n",
    "with open(instructions_file_path, \"r\", encoding=\"utf-8\") as instructions_file:\n",
    "    instructions_data = instructions_file.readlines()\n",
    "\n",
    "# Check the number of samples in each file\n",
    "num_samples_categories = len(categories_data)\n",
    "num_samples_instructions = len(instructions_data)\n",
    "\n",
    "# Ensure the number of samples matches\n",
    "if num_samples_categories != num_samples_instructions:\n",
    "    print(\"Error: Number of samples in categories file and instructions file do not match.\")\n",
    "    print(\"Number of samples in categories file:\", num_samples_categories)\n",
    "    print(\"Number of samples in instructions file:\", num_samples_instructions)\n",
    "else:\n",
    "    print(\"Number of samples in categories file:\", num_samples_categories)\n",
    "    print(\"Number of samples in instructions file:\", num_samples_instructions)\n",
    "\n",
    "    # Convert data to numpy arrays\n",
    "    X = np.array(categories_data)\n",
    "    y = np.array(instructions_data)\n",
    "\n",
    "    # Encode labels\n",
    "    label_encoder = LabelEncoder()\n",
    "    y = label_encoder.fit_transform(y)\n",
    "\n",
    "    # Split data into training and validation sets\n",
    "    X_train, X_val, y_train, y_val = train_test_split(X, y, test_size=0.2, random_state=42)\n",
    "\n",
    "    # Tokenize text data\n",
    "    tokenizer = tf.keras.preprocessing.text.Tokenizer(num_words=10000)\n",
    "    tokenizer.fit_on_texts(X_train)\n",
    "\n",
    "    X_train = tokenizer.texts_to_sequences(X_train)\n",
    "    X_val = tokenizer.texts_to_sequences(X_val)\n",
    "\n",
    "    # Pad sequences for uniform length\n",
    "    X_train = tf.keras.preprocessing.sequence.pad_sequences(X_train, padding='post', maxlen=100)\n",
    "    X_val = tf.keras.preprocessing.sequence.pad_sequences(X_val, padding='post', maxlen=100)\n",
    "\n",
    "    # Define the neural network model\n",
    "    model = Sequential()\n",
    "    model.add(Embedding(10000, 128, input_length=100))\n",
    "    model.add(Flatten())\n",
    "    model.add(Dense(64, activation='relu'))\n",
    "    model.add(Dense(1, activation='sigmoid'))\n",
    "\n",
    "    # Compile the model\n",
    "    model.compile(optimizer='adam', loss='binary_crossentropy', metrics=['accuracy'])\n",
    "\n",
    "    # Train the model\n",
    "    history = model.fit(X_train, y_train, validation_data=(X_val, y_val), epochs=10, batch_size=32)\n",
    "\n",
    "    # Evaluate the model\n",
    "    loss, accuracy = model.evaluate(X_val, y_val)\n",
    "    print(\"Validation accuracy:\", accuracy)\n"
   ]
  },
  {
   "cell_type": "markdown",
   "id": "baa401a0",
   "metadata": {
    "id": "baa401a0",
    "papermill": {
     "duration": 0.003546,
     "end_time": "2024-03-08T17:46:56.527435",
     "exception": false,
     "start_time": "2024-03-08T17:46:56.523889",
     "status": "completed"
    },
    "tags": []
   },
   "source": [
    "In **conclusion**, implementing SVM classification using TensorFlow and Keras offers a powerful approach to solving various machine learning problems. By following the outlined steps, you can effectively build, train, and evaluate SVM models on your datasets. SVMs are particularly useful for binary classification tasks and can handle both linear and non-linear decision boundaries using different kernel functions.\n",
    "\n",
    "Using TensorFlow and Keras for SVMs provides flexibility in model construction and allows for easy integration with other deep learning models or custom layers. Additionally, TensorFlow's computational graph optimization and Keras's high-level APIs simplify the development process, making it accessible to both beginners and experienced practitioners.\n",
    "\n",
    "While SVMs have been widely used for classification tasks, it's essential to experiment with different kernels, regularization techniques, and hyperparameters to achieve optimal performance. Moreover, thorough data preprocessing and feature engineering can significantly impact the SVM model's effectiveness.\n",
    "\n",
    "Overall, SVMs remain a valuable tool in the machine learning toolbox, and leveraging TensorFlow and Keras enhances their usability and scalability for various real-world applications. By understanding the principles behind SVM classification and leveraging the capabilities of TensorFlow and Keras, you can tackle classification tasks with confidence and achieve robust results."
   ]
  }
 ],
 "metadata": {
  "colab": {
   "provenance": []
  },
  "kaggle": {
   "accelerator": "none",
   "dataSources": [
    {
     "databundleVersionId": 7669720,
     "sourceId": 64148,
     "sourceType": "competition"
    }
   ],
   "dockerImageVersionId": 30664,
   "isGpuEnabled": false,
   "isInternetEnabled": false,
   "language": "python",
   "sourceType": "notebook"
  },
  "kernelspec": {
   "display_name": "Python 3",
   "language": "python",
   "name": "python3"
  },
  "language_info": {
   "codemirror_mode": {
    "name": "ipython",
    "version": 3
   },
   "file_extension": ".py",
   "mimetype": "text/x-python",
   "name": "python",
   "nbconvert_exporter": "python",
   "pygments_lexer": "ipython3",
   "version": "3.10.13"
  },
  "papermill": {
   "default_parameters": {},
   "duration": 20.846581,
   "end_time": "2024-03-08T17:46:58.460987",
   "environment_variables": {},
   "exception": null,
   "input_path": "__notebook__.ipynb",
   "output_path": "__notebook__.ipynb",
   "parameters": {},
   "start_time": "2024-03-08T17:46:37.614406",
   "version": "2.5.0"
  }
 },
 "nbformat": 4,
 "nbformat_minor": 5
}
